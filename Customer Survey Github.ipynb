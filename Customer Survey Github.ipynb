{
 "cells": [
  {
   "cell_type": "markdown",
   "metadata": {
    "heading_collapsed": true
   },
   "source": [
    "# 1 Business Problem"
   ]
  },
  {
   "cell_type": "markdown",
   "metadata": {
    "hidden": true
   },
   "source": [
    "ABC Socks Company is a leading sock retailer within the online marketplace. In order to thrive as an online retailer, the company must continue to produce quality products, while offering exceptional customer service to maintain a prestige image of their brand.\n",
    "\n",
    "One way to protect the company's image is by working with big data using customer surveys, and determine the best approach to improve the effectiveness of call center services. For this case study, we will use the following approaches:\n",
    "- Control Group (Standard customer service) - <u>zero cost</u>\n",
    "- Human-Focused Group (Exceptional customer service through on-going training) - <u>high cost</u>\n",
    "- Incentive Group (Standard customer service with incentive for a chance to win free lifetime socks contest) - <u>low cost</u> \n",
    "- Interaction Group (Exceptional customer service with incentive for a chance to win free lifetime socks contest) - <u>very high cost</u>\n",
    "\n",
    "We will also use the following to measure each individual approach:\n",
    "- Customer's perception of the company\n",
    "- Customer's comprehension of the company\n",
    "- Customer's willingness to recommend the company\n",
    "\n",
    "<u>Note</u>: The dataset that we are using is from a mock call center, and each group in the dataset is differentiated based on the number of digits in the first column\n",
    "<br>\n",
    "<br>\n",
    "\n",
    "**Business Solution:**\n",
    "- We will conduct statistical analyses from the dataset (customer surveys) to determine the significance of the different approaches\n",
    "- The results will allow us to determine the best approach to improve the effectiveness of call center services for protecting brand image\n",
    "\n",
    "<u>Note</u>: The best approach will be evaluated based on customer **behaviours**\n",
    "<br>\n",
    "<br>\n",
    "\n",
    "**Benefits:**\n",
    "- Improve the company's brand image\n",
    "- Optimize the costs associated with each marketing approach for improving customer service\n",
    "- Higher sales and revenue\n",
    "- Better Customer Acquisition\n",
    "- Improve Customer Engagement\n",
    "<br>\n",
    "<br>\n",
    "\n",
    "**Robustness:**\n",
    "- We will use <u>Ordinary Least Square</u> (OLS) method to analyze data with numerical ratings, since these ratings has many outcomes, and we can treat the outcomes as a continuous variable.\n",
    "- We will also use <u>Logistic Regression</u> to analyze data with categorical ratings, by assigning dummy variables (0 or 1), since the predicted probability lies in the 0 and 1 range. Whereas, using OLS predicted probability can result in both positive or negative values, which violates the rules of probability.\n",
    "<br>\n",
    "<br>\n",
    "\n",
    "**Assumptions:**\n",
    "- We're assuming that 384 samples in our data is sufficient to determine the outcome of our analyses\n",
    "- We're assuming that data with numerical ratings, which has many outcomes, is similar to continuous variables\n",
    "- We're assuming that the following questions from the survey, affects the different attributes of the company:\n",
    "    - Perception of the company:\n",
    "        - Question 2: ABC Sock Company cares about my needs as a customer (ratings 1-7)\n",
    "        - Question 3: ABC Sock Company produces high-quality dependable socks (ratings 1-7)\n",
    "    - Comprehension of the company:\n",
    "        - Question 4: ABC Sock company only uses cotton farmed using what environmental practice?\n",
    "            - Hydroponics\n",
    "            - Organic (<u>Correct Answer</u>)\n",
    "            - Moonlight harvest\n",
    "            - Conventional Farming\n",
    "        - Question 5: ABC Sock company is the only company to sell socks with what patented technology?\n",
    "            - Sock bands that always stay up\n",
    "            - Anti-sweat technology\n",
    "            - Socks that never get holes\n",
    "            - Socks that change colour so you never wear mismatched socks again (<u>Correct Answer</u>)        \n",
    "            - Unsure\n",
    "    - Recommendations of the company\n",
    "        - Question 6: I have a favourable opinion of ABC Sock Company (ratings 1-7)\n",
    "        - Question 7: Would you recommend ABC Sock Company to a friend?\n",
    "            - Yes or No\n",
    "<br>\n",
    "<br>\n",
    "\n",
    "**Future:**\n",
    "\n",
    "This analysis is an introductory to determine the best approach to improve the company's brand image. In the future, we will explore other dataset and implement machine learning techniques for predictions based on customer behaviours."
   ]
  },
  {
   "cell_type": "markdown",
   "metadata": {
    "heading_collapsed": true
   },
   "source": [
    "# 2 Quick Look at the Raw Data"
   ]
  },
  {
   "cell_type": "code",
   "execution_count": 1,
   "metadata": {
    "hidden": true,
    "scrolled": true
   },
   "outputs": [
    {
     "data": {
      "text/html": [
       "<div>\n",
       "<style scoped>\n",
       "    .dataframe tbody tr th:only-of-type {\n",
       "        vertical-align: middle;\n",
       "    }\n",
       "\n",
       "    .dataframe tbody tr th {\n",
       "        vertical-align: top;\n",
       "    }\n",
       "\n",
       "    .dataframe thead th {\n",
       "        text-align: right;\n",
       "    }\n",
       "</style>\n",
       "<table border=\"1\" class=\"dataframe\">\n",
       "  <thead>\n",
       "    <tr style=\"text-align: right;\">\n",
       "      <th></th>\n",
       "      <th>Group</th>\n",
       "      <th>Q2</th>\n",
       "      <th>Q3</th>\n",
       "      <th>Q4</th>\n",
       "      <th>Q5</th>\n",
       "      <th>Q6</th>\n",
       "      <th>Q7</th>\n",
       "    </tr>\n",
       "  </thead>\n",
       "  <tbody>\n",
       "    <tr>\n",
       "      <th>0</th>\n",
       "      <td>Please enter the 4-digit number provided in the e-mail containing the survey link</td>\n",
       "      <td>ABC Sock Company cares about my needs as a customer</td>\n",
       "      <td>ABC Sock Company produces high-quality dependable socks</td>\n",
       "      <td>ABC Sock company only uses cotton farmed using what environmental practice?</td>\n",
       "      <td>ABC Sock company is the only company to sell socks with what patented technology?</td>\n",
       "      <td>I have a favourable opinion of ABC Sock Company</td>\n",
       "      <td>Would you recommend ABC Sock Company to a friend?</td>\n",
       "    </tr>\n",
       "    <tr>\n",
       "      <th>1</th>\n",
       "      <td>528</td>\n",
       "      <td>5</td>\n",
       "      <td>5</td>\n",
       "      <td>Moonlight Harvest</td>\n",
       "      <td>Socks that never get holes</td>\n",
       "      <td>5</td>\n",
       "      <td>Yes</td>\n",
       "    </tr>\n",
       "    <tr>\n",
       "      <th>2</th>\n",
       "      <td>207</td>\n",
       "      <td>5</td>\n",
       "      <td>5</td>\n",
       "      <td>Hydroponics</td>\n",
       "      <td>Socks that never get holes</td>\n",
       "      <td>5</td>\n",
       "      <td>No</td>\n",
       "    </tr>\n",
       "    <tr>\n",
       "      <th>3</th>\n",
       "      <td>5936</td>\n",
       "      <td>3</td>\n",
       "      <td>4</td>\n",
       "      <td>Organic</td>\n",
       "      <td>Anti-sweat technology</td>\n",
       "      <td>4</td>\n",
       "      <td>No</td>\n",
       "    </tr>\n",
       "    <tr>\n",
       "      <th>4</th>\n",
       "      <td>160682</td>\n",
       "      <td>3</td>\n",
       "      <td>2</td>\n",
       "      <td>Moonlight Harvest</td>\n",
       "      <td>Anti-sweat technology</td>\n",
       "      <td>2</td>\n",
       "      <td>Yes</td>\n",
       "    </tr>\n",
       "  </tbody>\n",
       "</table>\n",
       "</div>"
      ],
      "text/plain": [
       "                                                                               Group  \\\n",
       "0  Please enter the 4-digit number provided in the e-mail containing the survey link   \n",
       "1  528                                                                                 \n",
       "2  207                                                                                 \n",
       "3  5936                                                                                \n",
       "4  160682                                                                              \n",
       "\n",
       "                                                    Q2  \\\n",
       "0  ABC Sock Company cares about my needs as a customer   \n",
       "1  5                                                     \n",
       "2  5                                                     \n",
       "3  3                                                     \n",
       "4  3                                                     \n",
       "\n",
       "                                                        Q3  \\\n",
       "0  ABC Sock Company produces high-quality dependable socks   \n",
       "1  5                                                         \n",
       "2  5                                                         \n",
       "3  4                                                         \n",
       "4  2                                                         \n",
       "\n",
       "                                                                            Q4  \\\n",
       "0  ABC Sock company only uses cotton farmed using what environmental practice?   \n",
       "1  Moonlight Harvest                                                             \n",
       "2  Hydroponics                                                                   \n",
       "3  Organic                                                                       \n",
       "4  Moonlight Harvest                                                             \n",
       "\n",
       "                                                                                  Q5  \\\n",
       "0  ABC Sock company is the only company to sell socks with what patented technology?   \n",
       "1  Socks that never get holes                                                          \n",
       "2  Socks that never get holes                                                          \n",
       "3  Anti-sweat technology                                                               \n",
       "4  Anti-sweat technology                                                               \n",
       "\n",
       "                                                Q6  \\\n",
       "0  I have a favourable opinion of ABC Sock Company   \n",
       "1  5                                                 \n",
       "2  5                                                 \n",
       "3  4                                                 \n",
       "4  2                                                 \n",
       "\n",
       "                                                  Q7  \n",
       "0  Would you recommend ABC Sock Company to a friend?  \n",
       "1  Yes                                                \n",
       "2  No                                                 \n",
       "3  No                                                 \n",
       "4  Yes                                                "
      ]
     },
     "execution_count": 1,
     "metadata": {},
     "output_type": "execute_result"
    }
   ],
   "source": [
    "import pandas as pd\n",
    "pd.set_option('max_colwidth', -1)\n",
    "csv = \"Customer Survey.csv\"\n",
    "df = pd.read_csv(csv)\n",
    "df.head(5)"
   ]
  },
  {
   "cell_type": "code",
   "execution_count": 2,
   "metadata": {
    "hidden": true,
    "scrolled": false
   },
   "outputs": [
    {
     "name": "stdout",
     "output_type": "stream",
     "text": [
      "<class 'pandas.core.frame.DataFrame'>\n",
      "RangeIndex: 385 entries, 0 to 384\n",
      "Data columns (total 7 columns):\n",
      "Group    385 non-null object\n",
      "Q2       385 non-null object\n",
      "Q3       385 non-null object\n",
      "Q4       385 non-null object\n",
      "Q5       385 non-null object\n",
      "Q6       385 non-null object\n",
      "Q7       385 non-null object\n",
      "dtypes: object(7)\n",
      "memory usage: 10.6+ KB\n"
     ]
    }
   ],
   "source": [
    "df.info()"
   ]
  },
  {
   "cell_type": "markdown",
   "metadata": {
    "hidden": true
   },
   "source": [
    "After taking a quick look at the data, we see that there are no missing data."
   ]
  },
  {
   "cell_type": "markdown",
   "metadata": {
    "heading_collapsed": true
   },
   "source": [
    "# 3 Data Cleaning"
   ]
  },
  {
   "cell_type": "markdown",
   "metadata": {
    "hidden": true
   },
   "source": [
    "Before we can use our data for statistical testing, we need to organize our **raw data** into our desired groups. \n",
    "\n",
    "We need to prepare our dataset into the following groups:\n",
    "- 3 digits: Control-Group\n",
    "- 4 digits: Human-Focused Group\n",
    "- 5 digits: Incentive-Group\n",
    "- 6 digits: Interaction-Group\n",
    "\n",
    "Next, we will add a new column that assigns each unique code based on number of digits to their corresponding groups."
   ]
  },
  {
   "cell_type": "code",
   "execution_count": 3,
   "metadata": {
    "hidden": true,
    "scrolled": false
   },
   "outputs": [
    {
     "data": {
      "text/html": [
       "<div>\n",
       "<style scoped>\n",
       "    .dataframe tbody tr th:only-of-type {\n",
       "        vertical-align: middle;\n",
       "    }\n",
       "\n",
       "    .dataframe tbody tr th {\n",
       "        vertical-align: top;\n",
       "    }\n",
       "\n",
       "    .dataframe thead th {\n",
       "        text-align: right;\n",
       "    }\n",
       "</style>\n",
       "<table border=\"1\" class=\"dataframe\">\n",
       "  <thead>\n",
       "    <tr style=\"text-align: right;\">\n",
       "      <th></th>\n",
       "      <th>Group</th>\n",
       "      <th>New Group</th>\n",
       "    </tr>\n",
       "  </thead>\n",
       "  <tbody>\n",
       "    <tr>\n",
       "      <th>0</th>\n",
       "      <td>Please enter the 4-digit number provided in the e-mail containing the survey link</td>\n",
       "      <td>None</td>\n",
       "    </tr>\n",
       "    <tr>\n",
       "      <th>1</th>\n",
       "      <td>528</td>\n",
       "      <td>control_group</td>\n",
       "    </tr>\n",
       "    <tr>\n",
       "      <th>2</th>\n",
       "      <td>207</td>\n",
       "      <td>control_group</td>\n",
       "    </tr>\n",
       "    <tr>\n",
       "      <th>3</th>\n",
       "      <td>5936</td>\n",
       "      <td>human_focused_group</td>\n",
       "    </tr>\n",
       "    <tr>\n",
       "      <th>4</th>\n",
       "      <td>160682</td>\n",
       "      <td>interaction_group</td>\n",
       "    </tr>\n",
       "  </tbody>\n",
       "</table>\n",
       "</div>"
      ],
      "text/plain": [
       "                                                                               Group  \\\n",
       "0  Please enter the 4-digit number provided in the e-mail containing the survey link   \n",
       "1  528                                                                                 \n",
       "2  207                                                                                 \n",
       "3  5936                                                                                \n",
       "4  160682                                                                              \n",
       "\n",
       "             New Group  \n",
       "0  None                 \n",
       "1  control_group        \n",
       "2  control_group        \n",
       "3  human_focused_group  \n",
       "4  interaction_group    "
      ]
     },
     "execution_count": 3,
     "metadata": {},
     "output_type": "execute_result"
    }
   ],
   "source": [
    "# Add a new column that filters the different groups\n",
    "def add_groups(group):\n",
    "    if (len(group) == 3):\n",
    "        return \"control_group\"\n",
    "    elif (len(group) == 4):\n",
    "        return \"human_focused_group\"\n",
    "    elif (len(group) == 5):\n",
    "        return \"incentive_group\"    \n",
    "    elif (len(group) == 6):\n",
    "        return \"interaction_group\"\n",
    "df['New Group'] = df['Group'].apply(add_groups)\n",
    "df[['Group','New Group']].head(5)"
   ]
  },
  {
   "cell_type": "code",
   "execution_count": 4,
   "metadata": {
    "hidden": true,
    "scrolled": false
   },
   "outputs": [
    {
     "data": {
      "text/plain": [
       "incentive_group        101\n",
       "human_focused_group    101\n",
       "control_group          101\n",
       "interaction_group      81 \n",
       "Name: New Group, dtype: int64"
      ]
     },
     "execution_count": 4,
     "metadata": {},
     "output_type": "execute_result"
    }
   ],
   "source": [
    "df[\"New Group\"].value_counts()"
   ]
  },
  {
   "cell_type": "markdown",
   "metadata": {
    "hidden": true
   },
   "source": [
    "Our newly created \"New Group\" column was able determine the different groups from our \"Group\" column based on the number of digits of the Unique ID.\n",
    "\n",
    "We can also see a distribution on number of calls from each group."
   ]
  },
  {
   "cell_type": "code",
   "execution_count": 5,
   "metadata": {
    "hidden": true
   },
   "outputs": [],
   "source": [
    "# Import the appropriate packages for visualization, statistical analysis and array processing\n",
    "import numpy as np\n",
    "\n",
    "%matplotlib inline\n",
    "import matplotlib.pyplot as plt \n",
    "import seaborn as sns\n",
    "\n",
    "from scipy import stats\n",
    "import statsmodels\n",
    "import statsmodels.api as sm\n",
    "from statsmodels.formula.api import ols\n",
    "from statsmodels.discrete.discrete_model import Logit\n",
    "from patsy import dmatrices"
   ]
  },
  {
   "cell_type": "markdown",
   "metadata": {
    "heading_collapsed": true
   },
   "source": [
    "# 4 Hypothesis Testing For Customer Perception"
   ]
  },
  {
   "cell_type": "markdown",
   "metadata": {
    "hidden": true
   },
   "source": [
    "In order to understand which group provides the best approach for improving Customer Perception of the company, we will use Question 2 and Question 3 of the Survey."
   ]
  },
  {
   "cell_type": "markdown",
   "metadata": {
    "heading_collapsed": true,
    "hidden": true
   },
   "source": [
    "## 4.1 Customer Perception: Question 2 (OLS)"
   ]
  },
  {
   "cell_type": "code",
   "execution_count": 6,
   "metadata": {
    "hidden": true,
    "scrolled": true
   },
   "outputs": [
    {
     "data": {
      "text/html": [
       "<div>\n",
       "<style scoped>\n",
       "    .dataframe tbody tr th:only-of-type {\n",
       "        vertical-align: middle;\n",
       "    }\n",
       "\n",
       "    .dataframe tbody tr th {\n",
       "        vertical-align: top;\n",
       "    }\n",
       "\n",
       "    .dataframe thead th {\n",
       "        text-align: right;\n",
       "    }\n",
       "</style>\n",
       "<table border=\"1\" class=\"dataframe\">\n",
       "  <thead>\n",
       "    <tr style=\"text-align: right;\">\n",
       "      <th></th>\n",
       "      <th>Q2</th>\n",
       "      <th>Group</th>\n",
       "    </tr>\n",
       "  </thead>\n",
       "  <tbody>\n",
       "    <tr>\n",
       "      <th>0</th>\n",
       "      <td>5</td>\n",
       "      <td>control_group</td>\n",
       "    </tr>\n",
       "    <tr>\n",
       "      <th>1</th>\n",
       "      <td>5</td>\n",
       "      <td>control_group</td>\n",
       "    </tr>\n",
       "    <tr>\n",
       "      <th>2</th>\n",
       "      <td>3</td>\n",
       "      <td>human_focused_group</td>\n",
       "    </tr>\n",
       "    <tr>\n",
       "      <th>3</th>\n",
       "      <td>3</td>\n",
       "      <td>interaction_group</td>\n",
       "    </tr>\n",
       "    <tr>\n",
       "      <th>4</th>\n",
       "      <td>4</td>\n",
       "      <td>incentive_group</td>\n",
       "    </tr>\n",
       "  </tbody>\n",
       "</table>\n",
       "</div>"
      ],
      "text/plain": [
       "   Q2                Group\n",
       "0  5   control_group      \n",
       "1  5   control_group      \n",
       "2  3   human_focused_group\n",
       "3  3   interaction_group  \n",
       "4  4   incentive_group    "
      ]
     },
     "execution_count": 6,
     "metadata": {},
     "output_type": "execute_result"
    }
   ],
   "source": [
    "# Make a copy of the cleaned data\n",
    "data = df.copy()\n",
    "\n",
    "# Filters the data to Question 2 and New Group columns only\n",
    "data = data.filter(items=[\"Q2\", \"New Group\"])\n",
    "\n",
    "# Remove the first row\n",
    "data = data.drop(range(0,1))\n",
    "data = data.reset_index(drop=True) \n",
    "\n",
    "# Rename the Question 2 and New Group columns\n",
    "data = data.rename({\"Q2\":\"Q2\",\"New Group\":\"Group\"}, axis=\"columns\")\n",
    "\n",
    "# Change the data type\n",
    "data['Q2'] = pd.to_numeric(data['Q2'])        # Numerical\n",
    "data['Group'] = pd.Categorical(data['Group']) # Categorical\n",
    "\n",
    "data.head(5)"
   ]
  },
  {
   "cell_type": "code",
   "execution_count": 7,
   "metadata": {
    "hidden": true,
    "scrolled": false
   },
   "outputs": [
    {
     "data": {
      "image/png": "[encoded data removed]",
      "text/plain": [
       "<Figure size 432x288 with 1 Axes>"
      ]
     },
     "metadata": {},
     "output_type": "display_data"
    }
   ],
   "source": [
    "sns.set(font_scale=0.85)\n",
    "ax = sns.boxplot(x = \"Group\", y = \"Q2\", data = data, palette=\"Set1\", linewidth = 2)\n",
    "ax.set_title(\"Figure 1. Boxplot of Customer Perception by Groups (Question 2)\\n\", fontsize=16)\n",
    "ax.set_ylabel(\"Preception\", rotation = 0, fontsize=16, labelpad=50)\n",
    "ax.set_xlabel(\"Group\", rotation = 0, fontsize=16)\n",
    "plt.show()"
   ]
  },
  {
   "cell_type": "markdown",
   "metadata": {
    "hidden": true
   },
   "source": [
    "Please refer to \"[this link](https://towardsdatascience.com/understanding-boxplots-5e2df7bcbd51)\" for explanation of the boxplot. \n",
    "\n",
    "After cleaning our data for analysis, we implemented a boxplot in Figure 1 where we see the following:\n",
    "- All groups hover around the 4 to 5 rating\n",
    "- Both human-focused group and incentive-group has less variance\n",
    "- Interaction-group shows unhappy customers with rating of 1\n",
    "\n",
    "Let's investigate through our statistical analysis below."
   ]
  },
  {
   "cell_type": "code",
   "execution_count": 8,
   "metadata": {
    "hidden": true,
    "scrolled": true
   },
   "outputs": [
    {
     "data": {
      "image/png": "[encoded data removed]",
      "text/plain": [
       "<Figure size 432x288 with 1 Axes>"
      ]
     },
     "metadata": {},
     "output_type": "display_data"
    }
   ],
   "source": [
    "# Check for variable normality in perception dependent variable. \n",
    "plt.hist(data['Q2'], bins='auto')\n",
    "plt.title(\"Figure 2. Distribution of Perception for All Groups (Question 2)\")\n",
    "plt.xlabel(\"Preception\")\n",
    "plt.ylabel(\"Ratings\", rotation = 0, labelpad = 40)\n",
    "plt.show()"
   ]
  },
  {
   "cell_type": "markdown",
   "metadata": {
    "hidden": true
   },
   "source": [
    "In Figure 2, we see a normal distribution of ratings from Question 2 for all groups."
   ]
  },
  {
   "cell_type": "code",
   "execution_count": 9,
   "metadata": {
    "hidden": true,
    "scrolled": false
   },
   "outputs": [
    {
     "data": {
      "text/html": [
       "<table class=\"simpletable\">\n",
       "<caption>OLS Regression Results</caption>\n",
       "<tr>\n",
       "  <th>Dep. Variable:</th>           <td>Q2</td>        <th>  R-squared:         </th> <td>   0.032</td>\n",
       "</tr>\n",
       "<tr>\n",
       "  <th>Model:</th>                   <td>OLS</td>       <th>  Adj. R-squared:    </th> <td>   0.024</td>\n",
       "</tr>\n",
       "<tr>\n",
       "  <th>Method:</th>             <td>Least Squares</td>  <th>  F-statistic:       </th> <td>   4.035</td>\n",
       "</tr>\n",
       "<tr>\n",
       "  <th>Date:</th>             <td>Fri, 14 Jun 2019</td> <th>  Prob (F-statistic):</th>  <td>0.00762</td>\n",
       "</tr>\n",
       "<tr>\n",
       "  <th>Time:</th>                 <td>18:52:40</td>     <th>  Log-Likelihood:    </th> <td> -628.27</td>\n",
       "</tr>\n",
       "<tr>\n",
       "  <th>No. Observations:</th>      <td>   384</td>      <th>  AIC:               </th> <td>   1265.</td>\n",
       "</tr>\n",
       "<tr>\n",
       "  <th>Df Residuals:</th>          <td>   380</td>      <th>  BIC:               </th> <td>   1280.</td>\n",
       "</tr>\n",
       "<tr>\n",
       "  <th>Df Model:</th>              <td>     3</td>      <th>                     </th>     <td> </td>   \n",
       "</tr>\n",
       "<tr>\n",
       "  <th>Covariance Type:</th>         <td>HC3</td>       <th>                     </th>     <td> </td>   \n",
       "</tr>\n",
       "</table>\n",
       "<table class=\"simpletable\">\n",
       "<tr>\n",
       "                <td></td>                  <th>coef</th>     <th>std err</th>      <th>z</th>      <th>P>|z|</th>  <th>[0.025</th>    <th>0.975]</th>  \n",
       "</tr>\n",
       "<tr>\n",
       "  <th>Intercept</th>                    <td>    4.0297</td> <td>    0.137</td> <td>   29.319</td> <td> 0.000</td> <td>    3.760</td> <td>    4.299</td>\n",
       "</tr>\n",
       "<tr>\n",
       "  <th>Group[T.human_focused_group]</th> <td>    0.4455</td> <td>    0.176</td> <td>    2.530</td> <td> 0.011</td> <td>    0.100</td> <td>    0.791</td>\n",
       "</tr>\n",
       "<tr>\n",
       "  <th>Group[T.incentive_group]</th>     <td>    0.4059</td> <td>    0.177</td> <td>    2.299</td> <td> 0.021</td> <td>    0.060</td> <td>    0.752</td>\n",
       "</tr>\n",
       "<tr>\n",
       "  <th>Group[T.interaction_group]</th>   <td>   -0.0544</td> <td>    0.209</td> <td>   -0.260</td> <td> 0.795</td> <td>   -0.465</td> <td>    0.356</td>\n",
       "</tr>\n",
       "</table>\n",
       "<table class=\"simpletable\">\n",
       "<tr>\n",
       "  <th>Omnibus:</th>       <td>81.884</td> <th>  Durbin-Watson:     </th> <td>   2.175</td>\n",
       "</tr>\n",
       "<tr>\n",
       "  <th>Prob(Omnibus):</th> <td> 0.000</td> <th>  Jarque-Bera (JB):  </th> <td>  16.917</td>\n",
       "</tr>\n",
       "<tr>\n",
       "  <th>Skew:</th>          <td>-0.066</td> <th>  Prob(JB):          </th> <td>0.000212</td>\n",
       "</tr>\n",
       "<tr>\n",
       "  <th>Kurtosis:</th>      <td> 1.980</td> <th>  Cond. No.          </th> <td>    4.70</td>\n",
       "</tr>\n",
       "</table><br/><br/>Warnings:<br/>[1] Standard Errors are heteroscedasticity robust (HC3)"
      ],
      "text/plain": [
       "<class 'statsmodels.iolib.summary.Summary'>\n",
       "\"\"\"\n",
       "                            OLS Regression Results                            \n",
       "==============================================================================\n",
       "Dep. Variable:                     Q2   R-squared:                       0.032\n",
       "Model:                            OLS   Adj. R-squared:                  0.024\n",
       "Method:                 Least Squares   F-statistic:                     4.035\n",
       "Date:                Fri, 14 Jun 2019   Prob (F-statistic):            0.00762\n",
       "Time:                        18:52:40   Log-Likelihood:                -628.27\n",
       "No. Observations:                 384   AIC:                             1265.\n",
       "Df Residuals:                     380   BIC:                             1280.\n",
       "Df Model:                           3                                         \n",
       "Covariance Type:                  HC3                                         \n",
       "================================================================================================\n",
       "                                   coef    std err          z      P>|z|      [0.025      0.975]\n",
       "------------------------------------------------------------------------------------------------\n",
       "Intercept                        4.0297      0.137     29.319      0.000       3.760       4.299\n",
       "Group[T.human_focused_group]     0.4455      0.176      2.530      0.011       0.100       0.791\n",
       "Group[T.incentive_group]         0.4059      0.177      2.299      0.021       0.060       0.752\n",
       "Group[T.interaction_group]      -0.0544      0.209     -0.260      0.795      -0.465       0.356\n",
       "==============================================================================\n",
       "Omnibus:                       81.884   Durbin-Watson:                   2.175\n",
       "Prob(Omnibus):                  0.000   Jarque-Bera (JB):               16.917\n",
       "Skew:                          -0.066   Prob(JB):                     0.000212\n",
       "Kurtosis:                       1.980   Cond. No.                         4.70\n",
       "==============================================================================\n",
       "\n",
       "Warnings:\n",
       "[1] Standard Errors are heteroscedasticity robust (HC3)\n",
       "\"\"\""
      ]
     },
     "execution_count": 9,
     "metadata": {},
     "output_type": "execute_result"
    }
   ],
   "source": [
    "model = ols(\"Q2 ~ Group\", data).fit(cov_type='HC3') # Allow Heteroscedasticity (fewer assumptions)\n",
    "model.summary()"
   ]
  },
  {
   "cell_type": "markdown",
   "metadata": {
    "hidden": true
   },
   "source": [
    "**Approach:**\n",
    "\n",
    "We used OLS to test our hypothesis on the significance of each groups as an impact to customer perception for question 2 of the survey. Also, we tested each group against the control-group <u>individually</u> for more accuracy. Lastly, we used Heteroscedasticity to reduce all other assumptions for an even more robust model.\n",
    "\n",
    "**Below is our three hypotheses:**\n",
    "\n",
    "    H0: Control-Group = Human-Focused Group    H0: Control-Group = Incentive-Group    H0: Control-Group = Interaction-Group\n",
    "    H1: Not H0                                 H1: Not H0                             H1: Not H0\n",
    "    \n",
    "<u>Note</u>: T-Critical value is ±1.96 (384 sample size, 3 degree of freedom)\n",
    "\n",
    "**From our results in the table above, we see the following:**\n",
    "- Control-Group\n",
    "    - A base rating of **4.0297** (as shown in the coefficient)\n",
    "- Human-Focused Group\n",
    "    - Reject null hypothesis (T-stats of 2.53 > T-critical of ±1.96)\n",
    "    - Significant impact to customer perception by increasing the rating from 4.0297 to **4.4752** (coefficient of 0.4455 is the amount of rating that was increased)\n",
    "- Incentive-Group\n",
    "    - Reject null hypothesis (T-stats of 2.299 > T-critical of ±1.96)\n",
    "    - Significant impact to customer perception by increasing the rating from 4.0297 to **4.4356** (coefficient of 0.4059 is the amount of rating that was increased)\n",
    "- Interaction-Group\n",
    "    - Fail to reject null hypothesis (T-stats of -0.260 > T-critical of ±1.96)\n",
    "    - Not a significant impact to customer perception by decreasing the rating from 4.0297 to **3.9753** (coefficient of -0.0544 is the amount of rating that was decreased)\n",
    "    \n",
    "**Overall Analysis:**\n",
    "\n",
    "Based on Question 2 of the survey, we see that both Human-Focused Group and Incentive-Group increased the rating of customer perception, while Interaction-Group decreased the rating of customer perception. Although Human-Focused Group has a slightly higher increase in rating in comparison to the increase in rating from Incentive-Group, however, the difference is very minimal.\n",
    "\n",
    "The decrease in rating for the Interaction-Group also supports our analysis from Figure 1 where we have unhappy customers with rating of 1.\n",
    "\n",
    "**Recommendation:**\n",
    "\n",
    "As a result, based on Question 2 of the survey, we recommend using **Incentive-Group** since it delivers similar results (slightly lower) as Human-Focused Group, but the Incentive-Group approach is much more cost efficient.\n",
    "\n",
    "**Customer Behaviours**:\n",
    "\n",
    "We also see that customers has a more favourable perception of the company when there is a possibility of winning a free lifetime socks contest. This explains that the possibilities of winning the contest can influence the company's perception to the customers."
   ]
  },
  {
   "cell_type": "markdown",
   "metadata": {
    "heading_collapsed": true,
    "hidden": true
   },
   "source": [
    "## 4.2 Customer Perception: Question 3 (OLS)"
   ]
  },
  {
   "cell_type": "code",
   "execution_count": 10,
   "metadata": {
    "hidden": true
   },
   "outputs": [
    {
     "data": {
      "text/html": [
       "<div>\n",
       "<style scoped>\n",
       "    .dataframe tbody tr th:only-of-type {\n",
       "        vertical-align: middle;\n",
       "    }\n",
       "\n",
       "    .dataframe tbody tr th {\n",
       "        vertical-align: top;\n",
       "    }\n",
       "\n",
       "    .dataframe thead th {\n",
       "        text-align: right;\n",
       "    }\n",
       "</style>\n",
       "<table border=\"1\" class=\"dataframe\">\n",
       "  <thead>\n",
       "    <tr style=\"text-align: right;\">\n",
       "      <th></th>\n",
       "      <th>Q3</th>\n",
       "      <th>Group</th>\n",
       "    </tr>\n",
       "  </thead>\n",
       "  <tbody>\n",
       "    <tr>\n",
       "      <th>0</th>\n",
       "      <td>5</td>\n",
       "      <td>control_group</td>\n",
       "    </tr>\n",
       "    <tr>\n",
       "      <th>1</th>\n",
       "      <td>5</td>\n",
       "      <td>control_group</td>\n",
       "    </tr>\n",
       "    <tr>\n",
       "      <th>2</th>\n",
       "      <td>4</td>\n",
       "      <td>human_focused_group</td>\n",
       "    </tr>\n",
       "    <tr>\n",
       "      <th>3</th>\n",
       "      <td>2</td>\n",
       "      <td>interaction_group</td>\n",
       "    </tr>\n",
       "    <tr>\n",
       "      <th>4</th>\n",
       "      <td>4</td>\n",
       "      <td>incentive_group</td>\n",
       "    </tr>\n",
       "  </tbody>\n",
       "</table>\n",
       "</div>"
      ],
      "text/plain": [
       "   Q3                Group\n",
       "0  5   control_group      \n",
       "1  5   control_group      \n",
       "2  4   human_focused_group\n",
       "3  2   interaction_group  \n",
       "4  4   incentive_group    "
      ]
     },
     "execution_count": 10,
     "metadata": {},
     "output_type": "execute_result"
    }
   ],
   "source": [
    "# Make a copy of the cleaned data\n",
    "data = df.copy()\n",
    "\n",
    "# Filters the data to Question 3 and New Group columns only\n",
    "data = data.filter(items=[\"Q3\", \"New Group\"])\n",
    "\n",
    "# Remove the first row\n",
    "data = data.drop(range(0,1))\n",
    "data = data.reset_index(drop=True) \n",
    "\n",
    "# Rename the Question 3 and New Group columns\n",
    "data = data.rename({\"Q3\":\"Q3\",\"New Group\":\"Group\"}, axis=\"columns\")\n",
    "\n",
    "# Change the data type\n",
    "data['Q3'] = pd.to_numeric(data['Q3'])        # Numerical\n",
    "data['Group'] = pd.Categorical(data['Group']) # Categorical\n",
    "\n",
    "data.head(5)"
   ]
  },
  {
   "cell_type": "code",
   "execution_count": 11,
   "metadata": {
    "hidden": true
   },
   "outputs": [
    {
     "data": {
      "image/png": "[encoded data removed]",
      "text/plain": [
       "<Figure size 432x288 with 1 Axes>"
      ]
     },
     "metadata": {},
     "output_type": "display_data"
    }
   ],
   "source": [
    "sns.set(font_scale=0.85)\n",
    "ax = sns.boxplot(x = \"Group\", y = \"Q3\", data = data, palette=\"Set1\", linewidth = 2)\n",
    "ax.set_title(\"Figure 3. Boxplot of Customer Perception by Groups (Question 3)\\n\", fontsize=16)\n",
    "ax.set_ylabel(\"Preception\", rotation = 0, fontsize=16, labelpad=50)\n",
    "ax.set_xlabel(\"Group\", rotation = 0, fontsize=16)\n",
    "plt.show()"
   ]
  },
  {
   "cell_type": "markdown",
   "metadata": {
    "hidden": true
   },
   "source": [
    "Please refer to \"[this link](https://towardsdatascience.com/understanding-boxplots-5e2df7bcbd51)\" for explanation of the boxplot. \n",
    "\n",
    "After cleaning our data for analysis, we implemented a boxplot in Figure 3 where we see the following:\n",
    "- All groups hover around the 4 to 5 rating once again\n",
    "- Human-focused group has least variance\n",
    "- Incentive group has the highest variance, but still shows a better range of ratings (between 3 and 6)\n",
    "- Both control-group and interaction-group shows unhappy customers with ratings of 1\n",
    "\n",
    "Let's investigate through our statistical analysis below."
   ]
  },
  {
   "cell_type": "code",
   "execution_count": 12,
   "metadata": {
    "hidden": true,
    "scrolled": true
   },
   "outputs": [
    {
     "data": {
      "image/png": "[encoded data removed]",
      "text/plain": [
       "<Figure size 432x288 with 1 Axes>"
      ]
     },
     "metadata": {},
     "output_type": "display_data"
    }
   ],
   "source": [
    "# Check for variable normality in perception dependent variable. \n",
    "plt.hist(data['Q3'], bins='auto') \n",
    "plt.title(\"Figure 4. Distribution of Perception for All Groups (Question 3)\")\n",
    "plt.xlabel(\"Preception\")\n",
    "plt.ylabel(\"Ratings\", rotation = 0, labelpad = 40)\n",
    "plt.show()"
   ]
  },
  {
   "cell_type": "markdown",
   "metadata": {
    "hidden": true
   },
   "source": [
    "In Figure 4, we see a normal distribution of ratings from Question 3 for all groups."
   ]
  },
  {
   "cell_type": "code",
   "execution_count": 13,
   "metadata": {
    "hidden": true,
    "scrolled": false
   },
   "outputs": [
    {
     "data": {
      "text/html": [
       "<table class=\"simpletable\">\n",
       "<caption>OLS Regression Results</caption>\n",
       "<tr>\n",
       "  <th>Dep. Variable:</th>           <td>Q3</td>        <th>  R-squared:         </th> <td>   0.049</td>\n",
       "</tr>\n",
       "<tr>\n",
       "  <th>Model:</th>                   <td>OLS</td>       <th>  Adj. R-squared:    </th> <td>   0.041</td>\n",
       "</tr>\n",
       "<tr>\n",
       "  <th>Method:</th>             <td>Least Squares</td>  <th>  F-statistic:       </th> <td>   6.564</td>\n",
       "</tr>\n",
       "<tr>\n",
       "  <th>Date:</th>             <td>Fri, 14 Jun 2019</td> <th>  Prob (F-statistic):</th> <td>0.000246</td>\n",
       "</tr>\n",
       "<tr>\n",
       "  <th>Time:</th>                 <td>18:52:41</td>     <th>  Log-Likelihood:    </th> <td> -637.63</td>\n",
       "</tr>\n",
       "<tr>\n",
       "  <th>No. Observations:</th>      <td>   384</td>      <th>  AIC:               </th> <td>   1283.</td>\n",
       "</tr>\n",
       "<tr>\n",
       "  <th>Df Residuals:</th>          <td>   380</td>      <th>  BIC:               </th> <td>   1299.</td>\n",
       "</tr>\n",
       "<tr>\n",
       "  <th>Df Model:</th>              <td>     3</td>      <th>                     </th>     <td> </td>   \n",
       "</tr>\n",
       "<tr>\n",
       "  <th>Covariance Type:</th>         <td>HC3</td>       <th>                     </th>     <td> </td>   \n",
       "</tr>\n",
       "</table>\n",
       "<table class=\"simpletable\">\n",
       "<tr>\n",
       "                <td></td>                  <th>coef</th>     <th>std err</th>      <th>z</th>      <th>P>|z|</th>  <th>[0.025</th>    <th>0.975]</th>  \n",
       "</tr>\n",
       "<tr>\n",
       "  <th>Intercept</th>                    <td>    3.8812</td> <td>    0.144</td> <td>   27.004</td> <td> 0.000</td> <td>    3.599</td> <td>    4.163</td>\n",
       "</tr>\n",
       "<tr>\n",
       "  <th>Group[T.human_focused_group]</th> <td>    0.6436</td> <td>    0.175</td> <td>    3.680</td> <td> 0.000</td> <td>    0.301</td> <td>    0.986</td>\n",
       "</tr>\n",
       "<tr>\n",
       "  <th>Group[T.incentive_group]</th>     <td>    0.5644</td> <td>    0.189</td> <td>    2.985</td> <td> 0.003</td> <td>    0.194</td> <td>    0.935</td>\n",
       "</tr>\n",
       "<tr>\n",
       "  <th>Group[T.interaction_group]</th>   <td>    0.0694</td> <td>    0.216</td> <td>    0.322</td> <td> 0.748</td> <td>   -0.354</td> <td>    0.492</td>\n",
       "</tr>\n",
       "</table>\n",
       "<table class=\"simpletable\">\n",
       "<tr>\n",
       "  <th>Omnibus:</th>       <td>40.734</td> <th>  Durbin-Watson:     </th> <td>   2.090</td>\n",
       "</tr>\n",
       "<tr>\n",
       "  <th>Prob(Omnibus):</th> <td> 0.000</td> <th>  Jarque-Bera (JB):  </th> <td>  12.545</td>\n",
       "</tr>\n",
       "<tr>\n",
       "  <th>Skew:</th>          <td> 0.079</td> <th>  Prob(JB):          </th> <td> 0.00189</td>\n",
       "</tr>\n",
       "<tr>\n",
       "  <th>Kurtosis:</th>      <td> 2.129</td> <th>  Cond. No.          </th> <td>    4.70</td>\n",
       "</tr>\n",
       "</table><br/><br/>Warnings:<br/>[1] Standard Errors are heteroscedasticity robust (HC3)"
      ],
      "text/plain": [
       "<class 'statsmodels.iolib.summary.Summary'>\n",
       "\"\"\"\n",
       "                            OLS Regression Results                            \n",
       "==============================================================================\n",
       "Dep. Variable:                     Q3   R-squared:                       0.049\n",
       "Model:                            OLS   Adj. R-squared:                  0.041\n",
       "Method:                 Least Squares   F-statistic:                     6.564\n",
       "Date:                Fri, 14 Jun 2019   Prob (F-statistic):           0.000246\n",
       "Time:                        18:52:41   Log-Likelihood:                -637.63\n",
       "No. Observations:                 384   AIC:                             1283.\n",
       "Df Residuals:                     380   BIC:                             1299.\n",
       "Df Model:                           3                                         \n",
       "Covariance Type:                  HC3                                         \n",
       "================================================================================================\n",
       "                                   coef    std err          z      P>|z|      [0.025      0.975]\n",
       "------------------------------------------------------------------------------------------------\n",
       "Intercept                        3.8812      0.144     27.004      0.000       3.599       4.163\n",
       "Group[T.human_focused_group]     0.6436      0.175      3.680      0.000       0.301       0.986\n",
       "Group[T.incentive_group]         0.5644      0.189      2.985      0.003       0.194       0.935\n",
       "Group[T.interaction_group]       0.0694      0.216      0.322      0.748      -0.354       0.492\n",
       "==============================================================================\n",
       "Omnibus:                       40.734   Durbin-Watson:                   2.090\n",
       "Prob(Omnibus):                  0.000   Jarque-Bera (JB):               12.545\n",
       "Skew:                           0.079   Prob(JB):                      0.00189\n",
       "Kurtosis:                       2.129   Cond. No.                         4.70\n",
       "==============================================================================\n",
       "\n",
       "Warnings:\n",
       "[1] Standard Errors are heteroscedasticity robust (HC3)\n",
       "\"\"\""
      ]
     },
     "execution_count": 13,
     "metadata": {},
     "output_type": "execute_result"
    }
   ],
   "source": [
    "model = ols(\"Q3 ~ Group\", data).fit(cov_type='HC3') # Allow Heteroscedasticity (fewer assumptions)\n",
    "model.summary()"
   ]
  },
  {
   "cell_type": "markdown",
   "metadata": {
    "hidden": true
   },
   "source": [
    "**Approach:**\n",
    "\n",
    "We used OLS again to test our hypothesis on the significance of each groups as an impact to customer perception for question 3 of the survey. Also, we tested each group against the control-group <u>individually</u> for more accuracy. Lastly, we used Heteroscedasticity to reduce all other assumptions for an even more robust model.\n",
    "\n",
    "**Below is our three hypothesis:**\n",
    "\n",
    "    H0: Control-Group = Human-Focused Group    H0: Control-Group = Incentive-Group    H0: Control-Group = Interaction-Group\n",
    "    H1: Not H0                                 H1: Not H0                             H1: Not H0\n",
    "    \n",
    "<u>Note</u>: T-Critical value is ±1.96 (384 sample size, 3 degree of freedom)\n",
    "\n",
    "**From our results in the table above, we see the following:**\n",
    "- Control-Group\n",
    "    - A base rating of **3.8812** (as shown in the coefficient)\n",
    "- Human-Focused Group\n",
    "    - Reject null hypothesis (T-stats of 3.680 > T-critical of ±1.96)\n",
    "    - Significant impact to customer perception by increasing the rating from 3.8812 to **4.5248** (coefficient of 0.6436 is the amount of rating that was increased)\n",
    "- Incentive-Group\n",
    "    - Reject null hypothesis (T-stats of 2.985 > T-critical of ±1.96)\n",
    "    - Significant impact to customer perception by increasing the rating from 3.8812 to **4.4456** (coefficient of 0.5644 is the amount of rating that was increased)\n",
    "- Interaction-Group\n",
    "    - Fail to reject null hypothesis (T-stats of 0.322 < T-critical of ±1.96)\n",
    "    - Not a significant impact to customer perception by increasing the rating from 3.8812 to **3.9506** (coefficient of 0.0694 is the amount of rating that was increased)\n",
    "    \n",
    "**Overall Analysis:**\n",
    "\n",
    "Based on Question 3 of the survey, we see that both Human-Focused Group and Incentive-Group increased the rating of customer perception, while Interaction-Group had minimal impact for increasing the rating of customer perception. Although Human-Focused Group has a slightly higher increase in rating in comparison to the increase in rating from Incentive-Group, however, the difference is very minimal.\n",
    "\n",
    "**Recommendation:**\n",
    "\n",
    "As a result, based on Question 3 of the survey, we recommend using **Incentive-Group** again since it delivers similar results (slightly lower) as Human-Focused Group, but the Incentive-Group approach is much more cost efficient.\n",
    "\n",
    "**Customer Behaviours**:\n",
    "\n",
    "Once again, we see that customers has a more favourable perception of the company when there is a possibility of winning a free lifetime socks contest. This explains that the possibilities of winning the contest can influence the company's perception to the customers."
   ]
  },
  {
   "cell_type": "markdown",
   "metadata": {
    "heading_collapsed": true,
    "hidden": true
   },
   "source": [
    "## 4.3 Customer Perception Overall Recommendations"
   ]
  },
  {
   "cell_type": "markdown",
   "metadata": {
    "hidden": true
   },
   "source": [
    "Based on Question 2 and 3 of the survey, we can see that both Human-Focused Group and Incentive-Group increased the rating of customer perception from the original Control-Group. Although Human-Focused Group increased the ratings by slightly higher than the Incentive-Group, however, since the Incentive-Group is significantly more cost efficient than Human-Focused Group, then the significant increase in cost savings from the Incentive-Group <u>outweighs</u> the marginal increase in ratings from the Human-Focused Group. Therefore, **we recommend using Incentive-Group approach** for increasing customer perception while saving costs.\n",
    "\n",
    "Also, by using the **Incentive-Group approach**, customers will have a better perception of the company, since the possibilities of winning the contest can influence the customer's behaviours.\n",
    "\n",
    "<u>Note</u>: We will not consider the Interaction-Group since it was not significant for increasing the customer perception as evident in our analyses"
   ]
  },
  {
   "cell_type": "markdown",
   "metadata": {
    "heading_collapsed": true
   },
   "source": [
    "# 5 Hypothesis Testing For Customer Comprehension"
   ]
  },
  {
   "cell_type": "markdown",
   "metadata": {
    "hidden": true
   },
   "source": [
    "In order to understand which group provides the best approach for improving Customer Comprehension of the company, we will use Question 4 and Question 5 of the Survey."
   ]
  },
  {
   "cell_type": "markdown",
   "metadata": {
    "heading_collapsed": true,
    "hidden": true
   },
   "source": [
    "## 5.1 Customer Comprehension: Question 4 (LOG)"
   ]
  },
  {
   "cell_type": "code",
   "execution_count": 14,
   "metadata": {
    "hidden": true
   },
   "outputs": [
    {
     "data": {
      "text/html": [
       "<div>\n",
       "<style scoped>\n",
       "    .dataframe tbody tr th:only-of-type {\n",
       "        vertical-align: middle;\n",
       "    }\n",
       "\n",
       "    .dataframe tbody tr th {\n",
       "        vertical-align: top;\n",
       "    }\n",
       "\n",
       "    .dataframe thead th {\n",
       "        text-align: right;\n",
       "    }\n",
       "</style>\n",
       "<table border=\"1\" class=\"dataframe\">\n",
       "  <thead>\n",
       "    <tr style=\"text-align: right;\">\n",
       "      <th></th>\n",
       "      <th>Comprehension</th>\n",
       "      <th>Group</th>\n",
       "    </tr>\n",
       "  </thead>\n",
       "  <tbody>\n",
       "    <tr>\n",
       "      <th>0</th>\n",
       "      <td>0.0</td>\n",
       "      <td>control_group</td>\n",
       "    </tr>\n",
       "    <tr>\n",
       "      <th>1</th>\n",
       "      <td>0.0</td>\n",
       "      <td>control_group</td>\n",
       "    </tr>\n",
       "    <tr>\n",
       "      <th>2</th>\n",
       "      <td>1.0</td>\n",
       "      <td>human_focused_group</td>\n",
       "    </tr>\n",
       "    <tr>\n",
       "      <th>3</th>\n",
       "      <td>0.0</td>\n",
       "      <td>interaction_group</td>\n",
       "    </tr>\n",
       "    <tr>\n",
       "      <th>4</th>\n",
       "      <td>0.0</td>\n",
       "      <td>incentive_group</td>\n",
       "    </tr>\n",
       "  </tbody>\n",
       "</table>\n",
       "</div>"
      ],
      "text/plain": [
       "   Comprehension                Group\n",
       "0  0.0            control_group      \n",
       "1  0.0            control_group      \n",
       "2  1.0            human_focused_group\n",
       "3  0.0            interaction_group  \n",
       "4  0.0            incentive_group    "
      ]
     },
     "execution_count": 14,
     "metadata": {},
     "output_type": "execute_result"
    }
   ],
   "source": [
    "# Make a copy of the cleaned data\n",
    "data = df.copy()\n",
    "\n",
    "# Add a new column that filters Question 4 into a dummy variable column (Comprehension Column)\n",
    "def add_dummy(variable):\n",
    "    if (variable == \"Organic\"):\n",
    "        return 1\n",
    "    if (variable == \"Hydroponics\") or (variable == \"Moonlight Harvest\") or\\\n",
    "    (variable == \"Conventional Farming\"):\n",
    "        return 0  \n",
    "data['Comprehension'] = data['Q4'].apply(add_dummy)  \n",
    "\n",
    "# Filters the data to Comprehension and New Group columns only\n",
    "data = data.filter(items=[\"Comprehension\", \"New Group\"])\n",
    "\n",
    "# Remove the first row\n",
    "data = data.drop(range(0,1))\n",
    "data = data.reset_index(drop=True)\n",
    "\n",
    "# Rename the Comprehension and New Group columns\n",
    "data = data.rename({\"Comprehension\":\"Comprehension\",\"New Group\":\"Group\"}, axis=\"columns\")\n",
    "\n",
    "# Change the data type\n",
    "data['Comprehension'] = pd.to_numeric(data['Comprehension'])  # Numerical\n",
    "data['Group'] = pd.Categorical(data['Group'])                 # Categorical\n",
    "\n",
    "data.head(5)"
   ]
  },
  {
   "cell_type": "code",
   "execution_count": 15,
   "metadata": {
    "hidden": true,
    "scrolled": true
   },
   "outputs": [
    {
     "data": {
      "image/png": "[encoded data removed]",
      "text/plain": [
       "<Figure size 432x288 with 1 Axes>"
      ]
     },
     "metadata": {},
     "output_type": "display_data"
    }
   ],
   "source": [
    "# Check for variable normality in comprehension dependent variable. \n",
    "plt.hist(data['Comprehension'], bins='auto') \n",
    "plt.title(\"Figure 5. Distribution of Comprehension for All Groups (Question 4)\")\n",
    "plt.xlabel(\"Comprehension\")\n",
    "plt.ylabel(\"Ratings\", rotation = 0, labelpad = 40)\n",
    "plt.show()"
   ]
  },
  {
   "cell_type": "markdown",
   "metadata": {
    "hidden": true
   },
   "source": [
    "In Figure 5, we see a pretty even distribution of ratings from Question 4 for all groups."
   ]
  },
  {
   "cell_type": "code",
   "execution_count": 16,
   "metadata": {
    "hidden": true,
    "scrolled": false
   },
   "outputs": [
    {
     "name": "stdout",
     "output_type": "stream",
     "text": [
      "Optimization terminated successfully.\n",
      "         Current function value: 0.688881\n",
      "         Iterations 4\n"
     ]
    },
    {
     "data": {
      "text/html": [
       "<table class=\"simpletable\">\n",
       "<caption>Logit Regression Results</caption>\n",
       "<tr>\n",
       "  <th>Dep. Variable:</th>   <td>Comprehension</td>  <th>  No. Observations:  </th>  <td>   384</td> \n",
       "</tr>\n",
       "<tr>\n",
       "  <th>Model:</th>               <td>Logit</td>      <th>  Df Residuals:      </th>  <td>   380</td> \n",
       "</tr>\n",
       "<tr>\n",
       "  <th>Method:</th>               <td>MLE</td>       <th>  Df Model:          </th>  <td>     3</td> \n",
       "</tr>\n",
       "<tr>\n",
       "  <th>Date:</th>          <td>Fri, 14 Jun 2019</td> <th>  Pseudo R-squ.:     </th> <td>0.004908</td>\n",
       "</tr>\n",
       "<tr>\n",
       "  <th>Time:</th>              <td>18:52:41</td>     <th>  Log-Likelihood:    </th> <td> -264.53</td>\n",
       "</tr>\n",
       "<tr>\n",
       "  <th>converged:</th>           <td>True</td>       <th>  LL-Null:           </th> <td> -265.84</td>\n",
       "</tr>\n",
       "<tr>\n",
       "  <th> </th>                      <td> </td>        <th>  LLR p-value:       </th>  <td>0.4558</td> \n",
       "</tr>\n",
       "</table>\n",
       "<table class=\"simpletable\">\n",
       "<tr>\n",
       "                <td></td>                  <th>coef</th>     <th>std err</th>      <th>z</th>      <th>P>|z|</th>  <th>[0.025</th>    <th>0.975]</th>  \n",
       "</tr>\n",
       "<tr>\n",
       "  <th>Intercept</th>                    <td>   -0.0594</td> <td>    0.199</td> <td>   -0.298</td> <td> 0.765</td> <td>   -0.450</td> <td>    0.331</td>\n",
       "</tr>\n",
       "<tr>\n",
       "  <th>Group[T.human_focused_group]</th> <td>    0.2781</td> <td>    0.282</td> <td>    0.985</td> <td> 0.325</td> <td>   -0.275</td> <td>    0.831</td>\n",
       "</tr>\n",
       "<tr>\n",
       "  <th>Group[T.incentive_group]</th>     <td>    0.3183</td> <td>    0.283</td> <td>    1.126</td> <td> 0.260</td> <td>   -0.236</td> <td>    0.872</td>\n",
       "</tr>\n",
       "<tr>\n",
       "  <th>Group[T.interaction_group]</th>   <td>   -0.0642</td> <td>    0.299</td> <td>   -0.215</td> <td> 0.830</td> <td>   -0.650</td> <td>    0.521</td>\n",
       "</tr>\n",
       "</table>"
      ],
      "text/plain": [
       "<class 'statsmodels.iolib.summary.Summary'>\n",
       "\"\"\"\n",
       "                           Logit Regression Results                           \n",
       "==============================================================================\n",
       "Dep. Variable:          Comprehension   No. Observations:                  384\n",
       "Model:                          Logit   Df Residuals:                      380\n",
       "Method:                           MLE   Df Model:                            3\n",
       "Date:                Fri, 14 Jun 2019   Pseudo R-squ.:                0.004908\n",
       "Time:                        18:52:41   Log-Likelihood:                -264.53\n",
       "converged:                       True   LL-Null:                       -265.84\n",
       "                                        LLR p-value:                    0.4558\n",
       "================================================================================================\n",
       "                                   coef    std err          z      P>|z|      [0.025      0.975]\n",
       "------------------------------------------------------------------------------------------------\n",
       "Intercept                       -0.0594      0.199     -0.298      0.765      -0.450       0.331\n",
       "Group[T.human_focused_group]     0.2781      0.282      0.985      0.325      -0.275       0.831\n",
       "Group[T.incentive_group]         0.3183      0.283      1.126      0.260      -0.236       0.872\n",
       "Group[T.interaction_group]      -0.0642      0.299     -0.215      0.830      -0.650       0.521\n",
       "================================================================================================\n",
       "\"\"\""
      ]
     },
     "execution_count": 16,
     "metadata": {},
     "output_type": "execute_result"
    }
   ],
   "source": [
    "y, X = dmatrices(\"Comprehension ~ Group\", data, return_type = 'dataframe')\n",
    "model = Logit(y, X).fit()\n",
    "model.summary()"
   ]
  },
  {
   "cell_type": "markdown",
   "metadata": {
    "hidden": true
   },
   "source": [
    "**Approach:**\n",
    "\n",
    "We used Logistic Regression to test our hypothesis on the significance of each groups as an impact to customer comprehension for question 4 of the survey. Also, we tested each group against the control-group <u>individually</u> for more accuracy.\n",
    "\n",
    "\n",
    "**Below is our three hypothesis:**\n",
    "\n",
    "    H0: Control-Group = Human-Focused Group    H0: Control-Group = Incentive-Group    H0: Control-Group = Interaction-Group\n",
    "    H1: Not H0                                 H1: Not H0                             H1: Not H0\n",
    "    \n",
    "<u>Note</u>: T-Critical value is ±1.96 (384 sample size, 3 degree of freedom)\n",
    "\n",
    "**From our results in the table above, we see the following:**\n",
    "- Control-Group\n",
    "    - A base result of **-0.0594** (as shown in the coefficient)\n",
    "    \n",
    "**<u>Note</u>**: Since we are using Logistic Regression, then it is possible to have negative coefficients, since the coefficients are derived from the `Log` of \"Odds Ratio\" (Odds Ratio is the probability of an event over total occurrences)\n",
    "<br>\n",
    "ie. There is 100 reviews, and 50 of the reviews are positive and the other 50 are negative. Odd ratio for positive will be 50/100 = 0.50 and the `Log(50) = -0.30`\n",
    "\n",
    "- Human-Focused Group\n",
    "    - Fail to reject null hypothesis (T-stats of 0.985 < T-critical of ±1.96)\n",
    "    - Not a significant impact to customer comprehension by increasing the results from -0.0594 to **0.2187** (coefficient 0.2781 is the amount of rating that was increased)\n",
    "- Incentive-Group\n",
    "    - Fail to reject null hypothesis (T-stats of 1.126 < T-critical of ±1.96)\n",
    "    - Not a significant impact to customer comprehension by increasing the results from -0.0594 to **0.2589** (coefficient 0.3183 is the amount of rating that was increased)\n",
    "- Interaction-Group\n",
    "    - Fail to reject null hypothesis (T-stats of -0.215 > T-critical of ±1.96)\n",
    "    - Not a significant impact to customer comprehension by decreasing the results from -0.0594 to **-0.1236** (coefficient -0.0642 is the amount of rating that was decreased)\n",
    "    \n",
    "**Overall Analysis:**\n",
    "\n",
    "Based on Question 4 of the survey, we see that Human-Focused Group, Incentive-Group, and Interaction-Group did not make any significant impact on improving the customer comprehension of the company.\n",
    "\n",
    "**Recommendation:**\n",
    "\n",
    "As a result, based on Question 4 of the survey, we recommend using the **Control-Group**. \n",
    "\n",
    "**Customer Behaviours**:\n",
    "\n",
    "We see that any customer incentives or quality customer services does not improve the customer's behaviour to learn more about the products, since customers are more focused on satisfying their immediate desire to get the product they want, rather than educating themselves about the company."
   ]
  },
  {
   "cell_type": "markdown",
   "metadata": {
    "heading_collapsed": true,
    "hidden": true
   },
   "source": [
    "## 5.2 Customer Comprehension: Question 5 (LOG)"
   ]
  },
  {
   "cell_type": "code",
   "execution_count": 17,
   "metadata": {
    "hidden": true,
    "scrolled": false
   },
   "outputs": [
    {
     "data": {
      "text/html": [
       "<div>\n",
       "<style scoped>\n",
       "    .dataframe tbody tr th:only-of-type {\n",
       "        vertical-align: middle;\n",
       "    }\n",
       "\n",
       "    .dataframe tbody tr th {\n",
       "        vertical-align: top;\n",
       "    }\n",
       "\n",
       "    .dataframe thead th {\n",
       "        text-align: right;\n",
       "    }\n",
       "</style>\n",
       "<table border=\"1\" class=\"dataframe\">\n",
       "  <thead>\n",
       "    <tr style=\"text-align: right;\">\n",
       "      <th></th>\n",
       "      <th>Comprehension</th>\n",
       "      <th>Group</th>\n",
       "    </tr>\n",
       "  </thead>\n",
       "  <tbody>\n",
       "    <tr>\n",
       "      <th>0</th>\n",
       "      <td>0.0</td>\n",
       "      <td>control_group</td>\n",
       "    </tr>\n",
       "    <tr>\n",
       "      <th>1</th>\n",
       "      <td>0.0</td>\n",
       "      <td>control_group</td>\n",
       "    </tr>\n",
       "    <tr>\n",
       "      <th>2</th>\n",
       "      <td>0.0</td>\n",
       "      <td>human_focused_group</td>\n",
       "    </tr>\n",
       "    <tr>\n",
       "      <th>3</th>\n",
       "      <td>0.0</td>\n",
       "      <td>interaction_group</td>\n",
       "    </tr>\n",
       "    <tr>\n",
       "      <th>4</th>\n",
       "      <td>0.0</td>\n",
       "      <td>incentive_group</td>\n",
       "    </tr>\n",
       "  </tbody>\n",
       "</table>\n",
       "</div>"
      ],
      "text/plain": [
       "   Comprehension                Group\n",
       "0  0.0            control_group      \n",
       "1  0.0            control_group      \n",
       "2  0.0            human_focused_group\n",
       "3  0.0            interaction_group  \n",
       "4  0.0            incentive_group    "
      ]
     },
     "execution_count": 17,
     "metadata": {},
     "output_type": "execute_result"
    }
   ],
   "source": [
    "# Make a copy of the cleaned data\n",
    "data = df.copy()\n",
    "\n",
    "# Add a new column that filters Question 5 into a dummy variable column (Comprehension Column)\n",
    "def add_dummy(variable):\n",
    "    if (variable == \"Socks that change colour so you never wear mismatched socks again\"):\n",
    "        return 1\n",
    "    if (variable == \"Anti-sweat technology\") or (variable == \"Socks that never get holes\") or\\\n",
    "    (variable == \"Sock bands that always stay up\") or (variable == \"Unsure\"):\n",
    "        return 0  \n",
    "data['Comprehension'] = data['Q5'].apply(add_dummy)  \n",
    "\n",
    "# Filters the data to Comprehension and New Group columns only\n",
    "data = data.filter(items=[\"Comprehension\", \"New Group\"])\n",
    "\n",
    "# Remove the first row\n",
    "data = data.drop(range(0,1))\n",
    "data = data.reset_index(drop=True)\n",
    "\n",
    "# Rename the Comprehension and New Group columns\n",
    "data = data.rename({\"Comprehension\":\"Comprehension\",\"New Group\":\"Group\"}, axis=\"columns\")\n",
    "\n",
    "#Change the data type\n",
    "data['Comprehension'] = pd.to_numeric(data['Comprehension'])  # Numerical\n",
    "data['Group'] = pd.Categorical(data['Group'])                 # Categorical\n",
    "\n",
    "data.head(5)"
   ]
  },
  {
   "cell_type": "code",
   "execution_count": 18,
   "metadata": {
    "hidden": true,
    "scrolled": true
   },
   "outputs": [
    {
     "data": {
      "image/png": "[encoded data removed]",
      "text/plain": [
       "<Figure size 432x288 with 1 Axes>"
      ]
     },
     "metadata": {},
     "output_type": "display_data"
    }
   ],
   "source": [
    "# Check for variable normality in comprehension dependent variable. \n",
    "plt.hist(data['Comprehension'], bins='auto')\n",
    "plt.title(\"Figure 6. Distribution of Comprehension for All Groups (Question 5)\")\n",
    "plt.xlabel(\"Comprehension\")\n",
    "plt.ylabel(\"Ratings\", rotation = 0, labelpad = 40)\n",
    "plt.show()"
   ]
  },
  {
   "cell_type": "markdown",
   "metadata": {
    "hidden": true
   },
   "source": [
    "In Figure 6, we see an unbalanced distribution of ratings from Question 5 for all groups, however, this is not a concern since we are not using the data for prediction."
   ]
  },
  {
   "cell_type": "code",
   "execution_count": 19,
   "metadata": {
    "hidden": true,
    "scrolled": false
   },
   "outputs": [
    {
     "name": "stdout",
     "output_type": "stream",
     "text": [
      "Optimization terminated successfully.\n",
      "         Current function value: 0.355292\n",
      "         Iterations 6\n"
     ]
    },
    {
     "data": {
      "text/html": [
       "<table class=\"simpletable\">\n",
       "<caption>Logit Regression Results</caption>\n",
       "<tr>\n",
       "  <th>Dep. Variable:</th>   <td>Comprehension</td>  <th>  No. Observations:  </th>  <td>   384</td> \n",
       "</tr>\n",
       "<tr>\n",
       "  <th>Model:</th>               <td>Logit</td>      <th>  Df Residuals:      </th>  <td>   380</td> \n",
       "</tr>\n",
       "<tr>\n",
       "  <th>Method:</th>               <td>MLE</td>       <th>  Df Model:          </th>  <td>     3</td> \n",
       "</tr>\n",
       "<tr>\n",
       "  <th>Date:</th>          <td>Fri, 14 Jun 2019</td> <th>  Pseudo R-squ.:     </th> <td>0.001967</td>\n",
       "</tr>\n",
       "<tr>\n",
       "  <th>Time:</th>              <td>18:52:42</td>     <th>  Log-Likelihood:    </th> <td> -136.43</td>\n",
       "</tr>\n",
       "<tr>\n",
       "  <th>converged:</th>           <td>True</td>       <th>  LL-Null:           </th> <td> -136.70</td>\n",
       "</tr>\n",
       "<tr>\n",
       "  <th> </th>                      <td> </td>        <th>  LLR p-value:       </th>  <td>0.9105</td> \n",
       "</tr>\n",
       "</table>\n",
       "<table class=\"simpletable\">\n",
       "<tr>\n",
       "                <td></td>                  <th>coef</th>     <th>std err</th>      <th>z</th>      <th>P>|z|</th>  <th>[0.025</th>    <th>0.975]</th>  \n",
       "</tr>\n",
       "<tr>\n",
       "  <th>Intercept</th>                    <td>   -1.9124</td> <td>    0.297</td> <td>   -6.436</td> <td> 0.000</td> <td>   -2.495</td> <td>   -1.330</td>\n",
       "</tr>\n",
       "<tr>\n",
       "  <th>Group[T.human_focused_group]</th> <td>   -0.1895</td> <td>    0.436</td> <td>   -0.434</td> <td> 0.664</td> <td>   -1.045</td> <td>    0.665</td>\n",
       "</tr>\n",
       "<tr>\n",
       "  <th>Group[T.incentive_group]</th>     <td>   -0.2959</td> <td>    0.446</td> <td>   -0.663</td> <td> 0.507</td> <td>   -1.171</td> <td>    0.579</td>\n",
       "</tr>\n",
       "<tr>\n",
       "  <th>Group[T.interaction_group]</th>   <td>   -0.0477</td> <td>    0.450</td> <td>   -0.106</td> <td> 0.916</td> <td>   -0.929</td> <td>    0.834</td>\n",
       "</tr>\n",
       "</table>"
      ],
      "text/plain": [
       "<class 'statsmodels.iolib.summary.Summary'>\n",
       "\"\"\"\n",
       "                           Logit Regression Results                           \n",
       "==============================================================================\n",
       "Dep. Variable:          Comprehension   No. Observations:                  384\n",
       "Model:                          Logit   Df Residuals:                      380\n",
       "Method:                           MLE   Df Model:                            3\n",
       "Date:                Fri, 14 Jun 2019   Pseudo R-squ.:                0.001967\n",
       "Time:                        18:52:42   Log-Likelihood:                -136.43\n",
       "converged:                       True   LL-Null:                       -136.70\n",
       "                                        LLR p-value:                    0.9105\n",
       "================================================================================================\n",
       "                                   coef    std err          z      P>|z|      [0.025      0.975]\n",
       "------------------------------------------------------------------------------------------------\n",
       "Intercept                       -1.9124      0.297     -6.436      0.000      -2.495      -1.330\n",
       "Group[T.human_focused_group]    -0.1895      0.436     -0.434      0.664      -1.045       0.665\n",
       "Group[T.incentive_group]        -0.2959      0.446     -0.663      0.507      -1.171       0.579\n",
       "Group[T.interaction_group]      -0.0477      0.450     -0.106      0.916      -0.929       0.834\n",
       "================================================================================================\n",
       "\"\"\""
      ]
     },
     "execution_count": 19,
     "metadata": {},
     "output_type": "execute_result"
    }
   ],
   "source": [
    "y, X = dmatrices(\"Comprehension ~ Group\", data, return_type = 'dataframe')\n",
    "model = Logit(y, X).fit()\n",
    "model.summary()"
   ]
  },
  {
   "cell_type": "markdown",
   "metadata": {
    "hidden": true
   },
   "source": [
    "**Approach:**\n",
    "\n",
    "We used Logistic Regression again to test our hypothesis on the significance of each groups as an impact to customer comprehension for question 5 of the survey. Also, we tested each group against the control-group <u>individually</u> for more accuracy.\n",
    "\n",
    "\n",
    "**Below is our three hypothesis:**\n",
    "\n",
    "    H0: Control-Group = Human-Focused Group    H0: Control-Group = Incentive-Group    H0: Control-Group = Interaction-Group\n",
    "    H1: Not H0                                 H1: Not H0                             H1: Not H0\n",
    "    \n",
    "<u>Note</u>: T-Critical value is ±1.96 (384 sample size, 3 degree of freedom)\n",
    "\n",
    "**From our results in the table above, we see the following:**\n",
    "- Control-Group\n",
    "    - A base result of **-1.9124** (as shown in the coefficient)\n",
    "    \n",
    "**<u>Note</u>**: Since we are using Logistic Regression, then it is possible to have negative coefficients, since the coefficients are derived from the `Log` of \"Odds Ratio\" (Odds Ratio is the probability of an event over total occurrences)\n",
    "<br>\n",
    "ie. There is 100 reviews, and 50 of the reviews are positive and the other 50 are negative. Odd ratio for positive will be 50/100 = 0.50 and the `Log(50) = -0.30`\n",
    "\n",
    "- Human-Focused Group\n",
    "    - Fail to reject null hypothesis (T-stats of -0.434 > T-critical of ±1.96)\n",
    "    - Not a significant impact to customer comprehension by decreasing the results from -1.9124 to **-2.1019** (coefficient -0.1895 is the amount of rating that was decreased)\n",
    "- Incentive-Group\n",
    "    - Fail to reject null hypothesis (T-stats of -0.663 > T-critical of ±1.96)\n",
    "    - Not a significant impact to customer comprehension by decreasing the results from -1.9124 to **-2.2083** (coefficient -0.2959 is the amount of rating that was decreased)\n",
    "- Interaction-Group\n",
    "    - Fail to reject null hypothesis (T-stats of -0.106 > T-critical of ±1.96)\n",
    "    - Not a significant impact to customer comprehension by decreasing the results from -1.9124 to **-1.9601** (coefficient -0.0477 is the amount of rating that was decreased)\n",
    "    \n",
    "**Overall Analysis:**\n",
    "\n",
    "Based on Question 5 of the survey, we see that Human-Focused Group, Incentive-Group, and Interaction-Group did not make any significant impact on improving the customer comprehension of the company.\n",
    "\n",
    "**Recommendation:**\n",
    "\n",
    "As a result, based on Question 5 of the survey, we recommend using the **Control-Group** again. \n",
    "\n",
    "**Customer Behaviours:**\n",
    "\n",
    "We see that any customer incentives or quality customer services does not improve the customer's behaviour to learn more about the products, since customers are more focused on satisfying their immediate desire to get the product they want, rather than educating themselves about the company."
   ]
  },
  {
   "cell_type": "markdown",
   "metadata": {
    "heading_collapsed": true,
    "hidden": true
   },
   "source": [
    "## 5.3 Customer Comprehension Overall Recommendations"
   ]
  },
  {
   "cell_type": "markdown",
   "metadata": {
    "hidden": true
   },
   "source": [
    "Based on Question 4 and 5 of the survey, we can see that the company is better off staying with the Control-Group. Therefore, **we recommend using Control-Group approach** for working with customer comprehension.\n",
    "\n",
    "Also, by using the **Control-Group approach**, will still have the same comprehension level of the company from the customers, since the customers are more focused on satisfying their own needs."
   ]
  },
  {
   "cell_type": "markdown",
   "metadata": {
    "heading_collapsed": true
   },
   "source": [
    "# 6 Hypothesis Testing For Customer Recommendations"
   ]
  },
  {
   "cell_type": "markdown",
   "metadata": {
    "hidden": true
   },
   "source": [
    "In order to understand which group provides the best approach for improving Customer Recommendations of the company, we will use Question 6 and Question 7 of the Survey."
   ]
  },
  {
   "cell_type": "markdown",
   "metadata": {
    "heading_collapsed": true,
    "hidden": true
   },
   "source": [
    "## 6.1 Customer Recommendations: Question 6 (OLS)"
   ]
  },
  {
   "cell_type": "code",
   "execution_count": 20,
   "metadata": {
    "hidden": true
   },
   "outputs": [
    {
     "data": {
      "text/html": [
       "<div>\n",
       "<style scoped>\n",
       "    .dataframe tbody tr th:only-of-type {\n",
       "        vertical-align: middle;\n",
       "    }\n",
       "\n",
       "    .dataframe tbody tr th {\n",
       "        vertical-align: top;\n",
       "    }\n",
       "\n",
       "    .dataframe thead th {\n",
       "        text-align: right;\n",
       "    }\n",
       "</style>\n",
       "<table border=\"1\" class=\"dataframe\">\n",
       "  <thead>\n",
       "    <tr style=\"text-align: right;\">\n",
       "      <th></th>\n",
       "      <th>Q6</th>\n",
       "      <th>Group</th>\n",
       "    </tr>\n",
       "  </thead>\n",
       "  <tbody>\n",
       "    <tr>\n",
       "      <th>0</th>\n",
       "      <td>5</td>\n",
       "      <td>control_group</td>\n",
       "    </tr>\n",
       "    <tr>\n",
       "      <th>1</th>\n",
       "      <td>5</td>\n",
       "      <td>control_group</td>\n",
       "    </tr>\n",
       "    <tr>\n",
       "      <th>2</th>\n",
       "      <td>4</td>\n",
       "      <td>human_focused_group</td>\n",
       "    </tr>\n",
       "    <tr>\n",
       "      <th>3</th>\n",
       "      <td>2</td>\n",
       "      <td>interaction_group</td>\n",
       "    </tr>\n",
       "    <tr>\n",
       "      <th>4</th>\n",
       "      <td>3</td>\n",
       "      <td>incentive_group</td>\n",
       "    </tr>\n",
       "  </tbody>\n",
       "</table>\n",
       "</div>"
      ],
      "text/plain": [
       "   Q6                Group\n",
       "0  5   control_group      \n",
       "1  5   control_group      \n",
       "2  4   human_focused_group\n",
       "3  2   interaction_group  \n",
       "4  3   incentive_group    "
      ]
     },
     "execution_count": 20,
     "metadata": {},
     "output_type": "execute_result"
    }
   ],
   "source": [
    "# Make a copy of the cleaned data\n",
    "data = df.copy()\n",
    "\n",
    "# Filters the data to Question 6 and New Group columns only\n",
    "data = data.filter(items=[\"Q6\", \"New Group\"])\n",
    "\n",
    "# Remove the first row\n",
    "data = data.drop(range(0,1))\n",
    "data = data.reset_index(drop=True) \n",
    "\n",
    "# Rename the Question 6 and Group columns\n",
    "data = data.rename({\"Q6\":\"Q6\",\"New Group\":\"Group\"}, axis=\"columns\")\n",
    "\n",
    "# Change the data type\n",
    "data['Q6'] = pd.to_numeric(data['Q6'])        # Numerical\n",
    "data['Group'] = pd.Categorical(data['Group']) # Categorical\n",
    "\n",
    "data.head(5)"
   ]
  },
  {
   "cell_type": "code",
   "execution_count": 21,
   "metadata": {
    "hidden": true,
    "scrolled": true
   },
   "outputs": [
    {
     "data": {
      "image/png": "[encoded data removed]",
      "text/plain": [
       "<Figure size 432x288 with 1 Axes>"
      ]
     },
     "metadata": {},
     "output_type": "display_data"
    }
   ],
   "source": [
    "sns.set(font_scale=0.85)\n",
    "ax = sns.boxplot(x = \"Group\", y = \"Q6\", data = data, palette=\"Set1\", linewidth = 2)\n",
    "ax.set_title(\"Figure 7. Boxplot of Customer Recommendations by Groups (Question 6)\\n\", fontsize=16)\n",
    "ax.set_ylabel(\"Recommendations\", rotation = 0, fontsize=16, labelpad=50)\n",
    "ax.set_xlabel(\"Group\", rotation = 0, fontsize=16)\n",
    "plt.show()"
   ]
  },
  {
   "cell_type": "markdown",
   "metadata": {
    "hidden": true
   },
   "source": [
    "Please refer to \"[this link](https://towardsdatascience.com/understanding-boxplots-5e2df7bcbd51)\" for explanation of the boxplot. \n",
    "\n",
    "After cleaning our data for analysis, we implemented a boxplot in Figure 7 where we see the following:\n",
    "- All groups hover around the 4 to 5 rating once again\n",
    "- All groups has the same variance level\n",
    "- Incentive-Group shows happier customers with ratings of 7\n",
    "- Interaction-group shows unhappy customers with ratings of 1\n",
    "\n",
    "Let's investigate through our statistical analysis below."
   ]
  },
  {
   "cell_type": "code",
   "execution_count": 22,
   "metadata": {
    "hidden": true
   },
   "outputs": [
    {
     "data": {
      "image/png": "[encoded data removed]",
      "text/plain": [
       "<Figure size 432x288 with 1 Axes>"
      ]
     },
     "metadata": {},
     "output_type": "display_data"
    }
   ],
   "source": [
    "# Check for variable normality in recommendations dependent variable. \n",
    "plt.hist(data['Q6'], bins='auto')\n",
    "plt.title(\"Figure 8. Distribution of Recommendations for All Groups (Question 6)\")\n",
    "plt.xlabel(\"Recommendations\")\n",
    "plt.ylabel(\"Ratings\", rotation = 0, labelpad = 40)\n",
    "plt.show()"
   ]
  },
  {
   "cell_type": "markdown",
   "metadata": {
    "hidden": true
   },
   "source": [
    "In Figure 8, we see a normal distribution of ratings from Question 6 for all groups."
   ]
  },
  {
   "cell_type": "code",
   "execution_count": 23,
   "metadata": {
    "hidden": true
   },
   "outputs": [
    {
     "data": {
      "text/html": [
       "<table class=\"simpletable\">\n",
       "<caption>OLS Regression Results</caption>\n",
       "<tr>\n",
       "  <th>Dep. Variable:</th>           <td>Q6</td>        <th>  R-squared:         </th> <td>   0.037</td>\n",
       "</tr>\n",
       "<tr>\n",
       "  <th>Model:</th>                   <td>OLS</td>       <th>  Adj. R-squared:    </th> <td>   0.029</td>\n",
       "</tr>\n",
       "<tr>\n",
       "  <th>Method:</th>             <td>Least Squares</td>  <th>  F-statistic:       </th> <td>   4.696</td>\n",
       "</tr>\n",
       "<tr>\n",
       "  <th>Date:</th>             <td>Fri, 14 Jun 2019</td> <th>  Prob (F-statistic):</th>  <td>0.00312</td>\n",
       "</tr>\n",
       "<tr>\n",
       "  <th>Time:</th>                 <td>18:52:42</td>     <th>  Log-Likelihood:    </th> <td> -624.07</td>\n",
       "</tr>\n",
       "<tr>\n",
       "  <th>No. Observations:</th>      <td>   384</td>      <th>  AIC:               </th> <td>   1256.</td>\n",
       "</tr>\n",
       "<tr>\n",
       "  <th>Df Residuals:</th>          <td>   380</td>      <th>  BIC:               </th> <td>   1272.</td>\n",
       "</tr>\n",
       "<tr>\n",
       "  <th>Df Model:</th>              <td>     3</td>      <th>                     </th>     <td> </td>   \n",
       "</tr>\n",
       "<tr>\n",
       "  <th>Covariance Type:</th>         <td>HC3</td>       <th>                     </th>     <td> </td>   \n",
       "</tr>\n",
       "</table>\n",
       "<table class=\"simpletable\">\n",
       "<tr>\n",
       "                <td></td>                  <th>coef</th>     <th>std err</th>      <th>z</th>      <th>P>|z|</th>  <th>[0.025</th>    <th>0.975]</th>  \n",
       "</tr>\n",
       "<tr>\n",
       "  <th>Intercept</th>                    <td>    4.0594</td> <td>    0.133</td> <td>   30.630</td> <td> 0.000</td> <td>    3.800</td> <td>    4.319</td>\n",
       "</tr>\n",
       "<tr>\n",
       "  <th>Group[T.human_focused_group]</th> <td>    0.3564</td> <td>    0.173</td> <td>    2.064</td> <td> 0.039</td> <td>    0.018</td> <td>    0.695</td>\n",
       "</tr>\n",
       "<tr>\n",
       "  <th>Group[T.incentive_group]</th>     <td>    0.4059</td> <td>    0.180</td> <td>    2.260</td> <td> 0.024</td> <td>    0.054</td> <td>    0.758</td>\n",
       "</tr>\n",
       "<tr>\n",
       "  <th>Group[T.interaction_group]</th>   <td>   -0.1829</td> <td>    0.197</td> <td>   -0.930</td> <td> 0.352</td> <td>   -0.568</td> <td>    0.202</td>\n",
       "</tr>\n",
       "</table>\n",
       "<table class=\"simpletable\">\n",
       "<tr>\n",
       "  <th>Omnibus:</th>       <td>154.522</td> <th>  Durbin-Watson:     </th> <td>   2.055</td>\n",
       "</tr>\n",
       "<tr>\n",
       "  <th>Prob(Omnibus):</th> <td> 0.000</td>  <th>  Jarque-Bera (JB):  </th> <td>  20.954</td>\n",
       "</tr>\n",
       "<tr>\n",
       "  <th>Skew:</th>          <td>-0.053</td>  <th>  Prob(JB):          </th> <td>2.82e-05</td>\n",
       "</tr>\n",
       "<tr>\n",
       "  <th>Kurtosis:</th>      <td> 1.861</td>  <th>  Cond. No.          </th> <td>    4.70</td>\n",
       "</tr>\n",
       "</table><br/><br/>Warnings:<br/>[1] Standard Errors are heteroscedasticity robust (HC3)"
      ],
      "text/plain": [
       "<class 'statsmodels.iolib.summary.Summary'>\n",
       "\"\"\"\n",
       "                            OLS Regression Results                            \n",
       "==============================================================================\n",
       "Dep. Variable:                     Q6   R-squared:                       0.037\n",
       "Model:                            OLS   Adj. R-squared:                  0.029\n",
       "Method:                 Least Squares   F-statistic:                     4.696\n",
       "Date:                Fri, 14 Jun 2019   Prob (F-statistic):            0.00312\n",
       "Time:                        18:52:42   Log-Likelihood:                -624.07\n",
       "No. Observations:                 384   AIC:                             1256.\n",
       "Df Residuals:                     380   BIC:                             1272.\n",
       "Df Model:                           3                                         \n",
       "Covariance Type:                  HC3                                         \n",
       "================================================================================================\n",
       "                                   coef    std err          z      P>|z|      [0.025      0.975]\n",
       "------------------------------------------------------------------------------------------------\n",
       "Intercept                        4.0594      0.133     30.630      0.000       3.800       4.319\n",
       "Group[T.human_focused_group]     0.3564      0.173      2.064      0.039       0.018       0.695\n",
       "Group[T.incentive_group]         0.4059      0.180      2.260      0.024       0.054       0.758\n",
       "Group[T.interaction_group]      -0.1829      0.197     -0.930      0.352      -0.568       0.202\n",
       "==============================================================================\n",
       "Omnibus:                      154.522   Durbin-Watson:                   2.055\n",
       "Prob(Omnibus):                  0.000   Jarque-Bera (JB):               20.954\n",
       "Skew:                          -0.053   Prob(JB):                     2.82e-05\n",
       "Kurtosis:                       1.861   Cond. No.                         4.70\n",
       "==============================================================================\n",
       "\n",
       "Warnings:\n",
       "[1] Standard Errors are heteroscedasticity robust (HC3)\n",
       "\"\"\""
      ]
     },
     "execution_count": 23,
     "metadata": {},
     "output_type": "execute_result"
    }
   ],
   "source": [
    "model = ols(\"Q6 ~ Group\", data).fit(cov_type='HC3') # Allow Heteroscedasticity (fewer assumptions)\n",
    "model.summary()"
   ]
  },
  {
   "cell_type": "markdown",
   "metadata": {
    "hidden": true
   },
   "source": [
    "**Approach:**\n",
    "\n",
    "We used OLS again to test our hypothesis on the significance of each groups as an impact to customer recommendations for question 6 of the survey. Also, we tested each group against the control-group <u>individually</u> for more accuracy. Lastly, we used Heteroscedasticity to reduce all other assumptions for an even more robust model.\n",
    "\n",
    "**Below is our three hypothesis:**\n",
    "\n",
    "    H0: Control-Group = Human-Focused Group    H0: Control-Group = Incentive-Group    H0: Control-Group = Interaction-Group\n",
    "    H1: Not H0                                 H1: Not H0                             H1: Not H0\n",
    "    \n",
    "<u>Note</u>: T-Critical value is ±1.96 (384 sample size, 3 degree of freedom)\n",
    "\n",
    "**From our results in the table above, we see the following:**\n",
    "- Control-Group\n",
    "    - A base rating of **4.0594** (as shown in the coefficient)\n",
    "- Human-Focused Group\n",
    "    - Reject null hypothesis (T-stats of 2.064 > T-critical of ±1.96)\n",
    "    - Significant impact to customer recommendations by increasing the rating from 4.0594 to **4.4158** (coefficient of 0.3564 is the amount of rating that was increased)\n",
    "- Incentive-Group\n",
    "    - Reject null hypothesis (T-stats of 2.260 > T-critical of ±1.96)\n",
    "    - Significant impact to customer recommendations by increasing the rating from 4.0594 to **4.4653** (coefficient of 0.4059 is the amount of rating that was increased)\n",
    "- Interaction-Group\n",
    "    - Fail to reject null hypothesis (T-stats of -0.930 > T-critical of ±1.96)\n",
    "    - Not a significant impact to customer recommendations by decreasing the rating from 4.0594 to **3.8765** (coefficient of -0.1829 is the amount of rating that was decreased)\n",
    "    \n",
    "**Overall Analysis:**\n",
    "\n",
    "Based on Question 6 of the survey, we see that both Human-Focused Group and Incentive-Group increased the rating of customer recommendations, while Interaction-Group had minimal impact for increasing the rating of customer recommendations. Also, Incentive-Group has a higher increase in ratings in comparison to the increase in ratings from Human-Focused Group.\n",
    "\n",
    "**Recommendation:**\n",
    "\n",
    "As a result, based on Question 6 of the survey, we recommend using **Incentive-Group** again since it delivers better results than Human-Focused Group, while being more cost efficient.\n",
    "\n",
    "**Customer Behaviours**:\n",
    "\n",
    "Once again, we see that customers has a more favourable recommendations of the company when there is a possibility of winning a free lifetime socks contest. This explains that the possibilities of winning the contest can influence the company's recommendations by the customer."
   ]
  },
  {
   "cell_type": "markdown",
   "metadata": {
    "heading_collapsed": true,
    "hidden": true
   },
   "source": [
    "## 6.2 Customer Recommendations: Question 7 (LOG)"
   ]
  },
  {
   "cell_type": "code",
   "execution_count": 24,
   "metadata": {
    "hidden": true
   },
   "outputs": [
    {
     "data": {
      "text/html": [
       "<div>\n",
       "<style scoped>\n",
       "    .dataframe tbody tr th:only-of-type {\n",
       "        vertical-align: middle;\n",
       "    }\n",
       "\n",
       "    .dataframe tbody tr th {\n",
       "        vertical-align: top;\n",
       "    }\n",
       "\n",
       "    .dataframe thead th {\n",
       "        text-align: right;\n",
       "    }\n",
       "</style>\n",
       "<table border=\"1\" class=\"dataframe\">\n",
       "  <thead>\n",
       "    <tr style=\"text-align: right;\">\n",
       "      <th></th>\n",
       "      <th>Recommendations</th>\n",
       "      <th>Group</th>\n",
       "    </tr>\n",
       "  </thead>\n",
       "  <tbody>\n",
       "    <tr>\n",
       "      <th>0</th>\n",
       "      <td>1.0</td>\n",
       "      <td>control_group</td>\n",
       "    </tr>\n",
       "    <tr>\n",
       "      <th>1</th>\n",
       "      <td>0.0</td>\n",
       "      <td>control_group</td>\n",
       "    </tr>\n",
       "    <tr>\n",
       "      <th>2</th>\n",
       "      <td>0.0</td>\n",
       "      <td>human_focused_group</td>\n",
       "    </tr>\n",
       "    <tr>\n",
       "      <th>3</th>\n",
       "      <td>1.0</td>\n",
       "      <td>interaction_group</td>\n",
       "    </tr>\n",
       "    <tr>\n",
       "      <th>4</th>\n",
       "      <td>0.0</td>\n",
       "      <td>incentive_group</td>\n",
       "    </tr>\n",
       "  </tbody>\n",
       "</table>\n",
       "</div>"
      ],
      "text/plain": [
       "   Recommendations                Group\n",
       "0  1.0              control_group      \n",
       "1  0.0              control_group      \n",
       "2  0.0              human_focused_group\n",
       "3  1.0              interaction_group  \n",
       "4  0.0              incentive_group    "
      ]
     },
     "execution_count": 24,
     "metadata": {},
     "output_type": "execute_result"
    }
   ],
   "source": [
    "# Make a copy of the cleaned data\n",
    "data = df.copy()\n",
    "\n",
    "# Add a new column that filters Question 7 into a dummy variable column (Recommendations Column)\n",
    "def add_dummy(variable):\n",
    "    if (variable == \"Yes\"):\n",
    "        return 1\n",
    "    if (variable == \"No\"):\n",
    "        return 0  \n",
    "data['Recommendations'] = data['Q7'].apply(add_dummy)  \n",
    "\n",
    "# Filters the data to Recommendations and New Group columns only\n",
    "data = data.filter(items=[\"Recommendations\", \"New Group\"])\n",
    "\n",
    "# Remove the first row\n",
    "data = data.drop(range(0,1))\n",
    "data = data.reset_index(drop=True)\n",
    "\n",
    "# Rename the Recommendations and Group columns\n",
    "data = data.rename({\"Recommendations\":\"Recommendations\",\"New Group\":\"Group\"}, axis=\"columns\")\n",
    "\n",
    "#Change the data type\n",
    "data['Recommendations'] = pd.to_numeric(data['Recommendations'])  # Numerical\n",
    "data['Group'] = pd.Categorical(data['Group'])                     # Categorical\n",
    "\n",
    "data.head(5)"
   ]
  },
  {
   "cell_type": "code",
   "execution_count": 25,
   "metadata": {
    "hidden": true,
    "scrolled": true
   },
   "outputs": [
    {
     "data": {
      "image/png": "[encoded data removed]",
      "text/plain": [
       "<Figure size 432x288 with 1 Axes>"
      ]
     },
     "metadata": {},
     "output_type": "display_data"
    }
   ],
   "source": [
    "# Check for variable normality in recommendations dependent variable. \n",
    "plt.hist(data['Recommendations'], bins='auto')\n",
    "plt.title(\"Figure 9. Distribution of Recommendations for All Groups (Question 7)\")\n",
    "plt.xlabel(\"Recommendations\")\n",
    "plt.ylabel(\"Ratings\", rotation = 0, labelpad = 40)\n",
    "plt.show()"
   ]
  },
  {
   "cell_type": "markdown",
   "metadata": {
    "hidden": true
   },
   "source": [
    "In Figure 9, we see a pretty even distribution of ratings from Question 7 for all groups."
   ]
  },
  {
   "cell_type": "code",
   "execution_count": 26,
   "metadata": {
    "hidden": true,
    "scrolled": false
   },
   "outputs": [
    {
     "name": "stdout",
     "output_type": "stream",
     "text": [
      "Optimization terminated successfully.\n",
      "         Current function value: 0.651674\n",
      "         Iterations 5\n"
     ]
    },
    {
     "data": {
      "text/html": [
       "<table class=\"simpletable\">\n",
       "<caption>Logit Regression Results</caption>\n",
       "<tr>\n",
       "  <th>Dep. Variable:</th>  <td>Recommendations</td> <th>  No. Observations:  </th>  <td>   384</td>  \n",
       "</tr>\n",
       "<tr>\n",
       "  <th>Model:</th>               <td>Logit</td>      <th>  Df Residuals:      </th>  <td>   380</td>  \n",
       "</tr>\n",
       "<tr>\n",
       "  <th>Method:</th>               <td>MLE</td>       <th>  Df Model:          </th>  <td>     3</td>  \n",
       "</tr>\n",
       "<tr>\n",
       "  <th>Date:</th>          <td>Fri, 14 Jun 2019</td> <th>  Pseudo R-squ.:     </th>  <td>0.03522</td> \n",
       "</tr>\n",
       "<tr>\n",
       "  <th>Time:</th>              <td>18:52:43</td>     <th>  Log-Likelihood:    </th> <td> -250.24</td> \n",
       "</tr>\n",
       "<tr>\n",
       "  <th>converged:</th>           <td>True</td>       <th>  LL-Null:           </th> <td> -259.38</td> \n",
       "</tr>\n",
       "<tr>\n",
       "  <th> </th>                      <td> </td>        <th>  LLR p-value:       </th> <td>0.0003866</td>\n",
       "</tr>\n",
       "</table>\n",
       "<table class=\"simpletable\">\n",
       "<tr>\n",
       "                <td></td>                  <th>coef</th>     <th>std err</th>      <th>z</th>      <th>P>|z|</th>  <th>[0.025</th>    <th>0.975]</th>  \n",
       "</tr>\n",
       "<tr>\n",
       "  <th>Intercept</th>                    <td>   -0.2589</td> <td>    0.201</td> <td>   -1.290</td> <td> 0.197</td> <td>   -0.652</td> <td>    0.134</td>\n",
       "</tr>\n",
       "<tr>\n",
       "  <th>Group[T.human_focused_group]</th> <td>    0.8068</td> <td>    0.288</td> <td>    2.802</td> <td> 0.005</td> <td>    0.242</td> <td>    1.371</td>\n",
       "</tr>\n",
       "<tr>\n",
       "  <th>Group[T.incentive_group]</th>     <td>    1.2171</td> <td>    0.299</td> <td>    4.064</td> <td> 0.000</td> <td>    0.630</td> <td>    1.804</td>\n",
       "</tr>\n",
       "<tr>\n",
       "  <th>Group[T.interaction_group]</th>   <td>    0.5826</td> <td>    0.302</td> <td>    1.932</td> <td> 0.053</td> <td>   -0.008</td> <td>    1.174</td>\n",
       "</tr>\n",
       "</table>"
      ],
      "text/plain": [
       "<class 'statsmodels.iolib.summary.Summary'>\n",
       "\"\"\"\n",
       "                           Logit Regression Results                           \n",
       "==============================================================================\n",
       "Dep. Variable:        Recommendations   No. Observations:                  384\n",
       "Model:                          Logit   Df Residuals:                      380\n",
       "Method:                           MLE   Df Model:                            3\n",
       "Date:                Fri, 14 Jun 2019   Pseudo R-squ.:                 0.03522\n",
       "Time:                        18:52:43   Log-Likelihood:                -250.24\n",
       "converged:                       True   LL-Null:                       -259.38\n",
       "                                        LLR p-value:                 0.0003866\n",
       "================================================================================================\n",
       "                                   coef    std err          z      P>|z|      [0.025      0.975]\n",
       "------------------------------------------------------------------------------------------------\n",
       "Intercept                       -0.2589      0.201     -1.290      0.197      -0.652       0.134\n",
       "Group[T.human_focused_group]     0.8068      0.288      2.802      0.005       0.242       1.371\n",
       "Group[T.incentive_group]         1.2171      0.299      4.064      0.000       0.630       1.804\n",
       "Group[T.interaction_group]       0.5826      0.302      1.932      0.053      -0.008       1.174\n",
       "================================================================================================\n",
       "\"\"\""
      ]
     },
     "execution_count": 26,
     "metadata": {},
     "output_type": "execute_result"
    }
   ],
   "source": [
    "y, X = dmatrices(\"Recommendations ~ Group\", data, return_type = 'dataframe')\n",
    "model = Logit(y, X).fit()\n",
    "model.summary()"
   ]
  },
  {
   "cell_type": "markdown",
   "metadata": {
    "hidden": true
   },
   "source": [
    "**Approach:**\n",
    "\n",
    "We used Logistic Regression again to test our hypothesis on the significance of each groups as an impact to customer comprehension for question 7 of the survey. Also, we tested each group against the control-group <u>individually</u> for more accuracy.\n",
    "\n",
    "\n",
    "**Below is our three hypothesis:**\n",
    "\n",
    "    H0: Control-Group = Human-Focused Group    H0: Control-Group = Incentive-Group    H0: Control-Group = Interaction-Group\n",
    "    H1: Not H0                                 H1: Not H0                             H1: Not H0\n",
    "    \n",
    "<u>Note</u>: T-Critical value is ±1.96 (384 sample size, 3 degree of freedom)\n",
    "\n",
    "**From our results in the table above, we see the following:**\n",
    "- Control-Group\n",
    "    - A base result of **-0.2589** (as shown in the coefficient)\n",
    "    \n",
    "**<u>Note</u>**: Since we are using Logistic Regression, then it is possible to have negative coefficients, since the coefficients are derived from the `Log` of \"Odds Ratio\" (Odds Ratio is the probability of an event over total occurrences)\n",
    "<br>\n",
    "ie. There is 100 reviews, and 50 of the reviews are positive and the other 50 are negative. Odd ratio for positive will be 50/100 = 0.50 and the `Log(50) = -0.30`\n",
    "\n",
    "- Human-Focused Group\n",
    "    - Reject null hypothesis (T-stats of 2.802 > T-critical of ±1.96)\n",
    "    - Significant impact to customer recommendations by increasing the results from -0.2589 to **0.5479** (coefficient of 0.8068 is the amount of rating that was increased)\n",
    "- Incentive-Group\n",
    "    - Reject null hypothesis (T-stats of 4.064 > T-critical of ±1.96)\n",
    "    - Significant impact to customer recommendations by increasing the results from -0.2589 to **0.9582** (coefficient of 1.2171 is the amount of rating that was increased)\n",
    "- Interaction-Group\n",
    "    - Fail to reject null hypothesis (T-stats of 1.932 < T-critical of ±1.96)\n",
    "    - Not a significant impact to customer recommendations by increasing the results from -0.2589 to **0.3237** (coefficient of 0.5826 is the amount of rating that was increased)\n",
    "    \n",
    "**Overall Analysis:**\n",
    "\n",
    "Based on Question 7 of the survey, we see that both Human-Focused Group and Incentive-Group increased the rating of customer recommendations, while Interaction-Group had minimal impact for increasing the rating of customer recommendations. Also, Incentive-Group has a higher increase in ratings in comparison to the increase in ratings from Human-Focused Group.\n",
    "\n",
    "**Recommendation:**\n",
    "\n",
    "As a result, based on Question 7 of the survey, we recommend using **Incentive-Group** again since it delivers better results than Human-Focused Group, while being more cost efficient.\n",
    "\n",
    "**Customer Behaviours**:\n",
    "\n",
    "Once again, we see that customers has a more favourable recommendations of the company when there is a possibility of winning a free lifetime socks contest. This explains that the possibilities of winning the contest can influence the company's recommendations by the customer."
   ]
  },
  {
   "cell_type": "markdown",
   "metadata": {
    "heading_collapsed": true,
    "hidden": true
   },
   "source": [
    "## 6.3 Customer Recommendations Overall Recommendations"
   ]
  },
  {
   "cell_type": "markdown",
   "metadata": {
    "hidden": true
   },
   "source": [
    "Based on Question 6 and 7 of the survey, we can see that both Human-Focused Group and Incentive-Group increased the rating of customer recommendations from the original Control-Group. Also, the Incentive-Group significantly <u>outweighs</u> the impact of customer recommendations in comparison to the Human-Focused Group. Therefore, **we recommend using Incentive-Group approach** for increasing customer recommendations.\n",
    "\n",
    "Also, by using the **Incentive-Group approach**, customers will further recommend the company, since the possibilities of winning the contest can influence the customer's behaviours.\n",
    "\n",
    "<u>Note</u>: We will not consider the Interaction-Group since it was not significant for increasing the customer recommendations as evident in our analyses"
   ]
  },
  {
   "cell_type": "markdown",
   "metadata": {
    "heading_collapsed": true
   },
   "source": [
    "# 7 Final Recommendations and Customer Behaviours"
   ]
  },
  {
   "cell_type": "markdown",
   "metadata": {
    "hidden": true
   },
   "source": [
    "Based on the complete statistical analysis, we recommend ABC Socks Company to implement the **Incentive-Based Approach** to increase the <u>overall</u> perception of the company's brand.\n",
    "\n",
    "More specifically, we also conclude the following:\n",
    "- Human-Focused Approach has the most impact on customer's <u>perception</u> of the company\n",
    "\n",
    "(**Note**: Although our statistical analysis showed that Human-Focused Approach had the best impact, however we recommend using **Incentive-Based Approach** for better cost savings and slightly lower positive impact)\n",
    "- Neither approaches has any impact on customer's <u>comprehension</u> of the company\n",
    "\n",
    "(**Note**: Since neither approach had any positive impact, we recommend remaining with the control approach with zero cost for the company)\n",
    "- Incentive-Based Approach has the most impact on customer's <u>recommendations</u> of the company\n",
    "\n",
    "**Behavioural Analysis:**\n",
    "\n",
    "Upon our recommendations to implement **Incentive-Based Approach**, and based on a sample size of 384 survey, this implies that there is only 0.26% chance of winning (excluding any additional surveys) since only one customer will win the contest. \n",
    "\n",
    "Also, given that Incentive-Based Approach has a strong <u>overall</u> impact on the company's brand in comparison to all other approaches, then this entails that customers prefer to satisfy their immediate desire on the possibility of winning the contest, in exchange for giving a positive impact on the company's perception, without considering the odds of winning the contest.\n",
    "\n",
    "Therefore, we conclude that the option on the possibility of a customer winning the contest, will positively influence the company's overall brand. This is also in the company's best interest to increase the brand's perception <u>with</u> minimum amount of added cost."
   ]
  }
 ],
 "metadata": {
  "kernelspec": {
   "display_name": "Python 3",
   "language": "python",
   "name": "python3"
  },
  "language_info": {
   "codemirror_mode": {
    "name": "ipython",
    "version": 3
   },
   "file_extension": ".py",
   "mimetype": "text/x-python",
   "name": "python",
   "nbconvert_exporter": "python",
   "pygments_lexer": "ipython3",
   "version": "3.7.3"
  },
  "toc": {
   "base_numbering": 1,
   "nav_menu": {},
   "number_sections": true,
   "sideBar": false,
   "skip_h1_title": false,
   "title_cell": "Table of Contents",
   "title_sidebar": "Contents",
   "toc_cell": false,
   "toc_position": {
    "height": "303px",
    "left": "1121px",
    "top": "110px",
    "width": "159px"
   },
   "toc_section_display": false,
   "toc_window_display": false
  }
 },
 "nbformat": 4,
 "nbformat_minor": 2
}
